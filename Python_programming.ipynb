{
  "nbformat": 4,
  "nbformat_minor": 0,
  "metadata": {
    "colab": {
      "provenance": [],
      "authorship_tag": "ABX9TyOBCsWneOdwW23BbPxTotw6",
      "include_colab_link": true
    },
    "kernelspec": {
      "name": "python3",
      "display_name": "Python 3"
    },
    "language_info": {
      "name": "python"
    }
  },
  "cells": [
    {
      "cell_type": "markdown",
      "metadata": {
        "id": "view-in-github",
        "colab_type": "text"
      },
      "source": [
        "<a href=\"https://colab.research.google.com/github/Mihir-1511/mihir/blob/main/Python_programming.ipynb\" target=\"_parent\"><img src=\"https://colab.research.google.com/assets/colab-badge.svg\" alt=\"Open In Colab\"/></a>"
      ]
    },
    {
      "cell_type": "markdown",
      "source": [
        "1.) Add two numbers."
      ],
      "metadata": {
        "id": "mXXIgosoZSF_"
      }
    },
    {
      "cell_type": "code",
      "source": [
        "a = 10\n",
        "b = 9\n",
        "c = a + b\n",
        "d = b - a\n",
        "e = b/a\n",
        "print(c)\n",
        "print(d)\n",
        "print(e)"
      ],
      "metadata": {
        "colab": {
          "base_uri": "https://localhost:8080/"
        },
        "id": "vXgBPsI4Zd2t",
        "outputId": "c4c6dfba-6f98-4d99-a5c2-1a0875031504"
      },
      "execution_count": null,
      "outputs": [
        {
          "output_type": "stream",
          "name": "stdout",
          "text": [
            "19\n",
            "-1\n",
            "0.9\n"
          ]
        }
      ]
    },
    {
      "cell_type": "markdown",
      "source": [],
      "metadata": {
        "id": "xLwwx6l3Z3-M"
      }
    },
    {
      "cell_type": "markdown",
      "source": [
        "2.)Convert hours into minutes."
      ],
      "metadata": {
        "id": "lI2powroZ6Rb"
      }
    },
    {
      "cell_type": "code",
      "source": [
        "hour = 5\n",
        "minute = 60 * hour\n",
        "print(minute)"
      ],
      "metadata": {
        "colab": {
          "base_uri": "https://localhost:8080/"
        },
        "id": "QZzn8QLiZ_Ty",
        "outputId": "4db9bd4c-2a30-4cd4-b004-b4758ab7a372"
      },
      "execution_count": null,
      "outputs": [
        {
          "output_type": "stream",
          "name": "stdout",
          "text": [
            "300\n"
          ]
        }
      ]
    },
    {
      "cell_type": "markdown",
      "source": [
        "7.)Convert minutes into hours."
      ],
      "metadata": {
        "id": "6mhyvX52aYNR"
      }
    },
    {
      "cell_type": "code",
      "source": [
        "minute = 10\n",
        "hour = minute/60\n",
        "print(hour)"
      ],
      "metadata": {
        "colab": {
          "base_uri": "https://localhost:8080/"
        },
        "id": "VRnjQichacOD",
        "outputId": "d3acbd18-cb1b-4333-9595-e62ce7ef81a5"
      },
      "execution_count": null,
      "outputs": [
        {
          "output_type": "stream",
          "name": "stdout",
          "text": [
            "0.16666666666666666\n"
          ]
        }
      ]
    },
    {
      "cell_type": "markdown",
      "source": [
        "8.)Convert dollars into Rs. Where 1 $ = 48 Rs."
      ],
      "metadata": {
        "id": "Hg8pP7HqakCt"
      }
    },
    {
      "cell_type": "code",
      "source": [
        "rs = 2000\n",
        "doller = rs/82\n",
        "print(doller)"
      ],
      "metadata": {
        "colab": {
          "base_uri": "https://localhost:8080/"
        },
        "id": "zBIXLqMeap3v",
        "outputId": "f2e18920-905a-4fe4-a50b-a9d410bc7d41"
      },
      "execution_count": null,
      "outputs": [
        {
          "output_type": "stream",
          "name": "stdout",
          "text": [
            "24.390243902439025\n"
          ]
        }
      ]
    },
    {
      "cell_type": "markdown",
      "source": [
        "9.)Convert Rs. into dollars where 1 $ = 48 Rs."
      ],
      "metadata": {
        "id": "RlIltUo2axdZ"
      }
    },
    {
      "cell_type": "code",
      "source": [
        "rs = 980\n",
        "doller = rs/82\n",
        "print(doller)"
      ],
      "metadata": {
        "colab": {
          "base_uri": "https://localhost:8080/"
        },
        "id": "lDemQle4bTOp",
        "outputId": "5ea1737c-5b18-4e16-d2be-6daf00bd1250"
      },
      "execution_count": null,
      "outputs": [
        {
          "output_type": "stream",
          "name": "stdout",
          "text": [
            "11.951219512195122\n"
          ]
        }
      ]
    },
    {
      "cell_type": "markdown",
      "source": [
        "10.) Convert dollars into pound where 1 $ = 48 Rs. And 1 pound = 70 Rs.\n",
        "\n",
        "\n"
      ],
      "metadata": {
        "id": "K8FhOAvgbh1-"
      }
    },
    {
      "cell_type": "code",
      "source": [
        "doller = 60\n",
        "rs = doller * 82\n",
        "pound = rs /70\n",
        "print('doller to pound is ',pound)"
      ],
      "metadata": {
        "colab": {
          "base_uri": "https://localhost:8080/"
        },
        "id": "ijWsCVT2brSs",
        "outputId": "bb3a7b43-566f-40ed-eb8a-364765bd6f1c"
      },
      "execution_count": null,
      "outputs": [
        {
          "output_type": "stream",
          "name": "stdout",
          "text": [
            "doller to pound is  70.28571428571429\n"
          ]
        }
      ]
    },
    {
      "cell_type": "markdown",
      "source": [
        "11.) Convert grams into kg.\n",
        "\n",
        "\n"
      ],
      "metadata": {
        "id": "qqW-k_2Dbzmj"
      }
    },
    {
      "cell_type": "code",
      "source": [
        "gram = 1000\n",
        "kg = gram /1000\n",
        "print('gm to kg is ',kg)"
      ],
      "metadata": {
        "colab": {
          "base_uri": "https://localhost:8080/"
        },
        "id": "pP6oAAEIb5-_",
        "outputId": "c2eab79a-06a7-41a6-fc70-d2a82627c233"
      },
      "execution_count": null,
      "outputs": [
        {
          "output_type": "stream",
          "name": "stdout",
          "text": [
            "gm to kg is  1.0\n"
          ]
        }
      ]
    },
    {
      "cell_type": "markdown",
      "source": [
        "12.) Convert kgs into grams."
      ],
      "metadata": {
        "id": "vFIAqGkScD18"
      }
    },
    {
      "cell_type": "code",
      "source": [
        "kg = 5\n",
        "gram = kg * 1000\n",
        "print('kg to gram',gram)"
      ],
      "metadata": {
        "colab": {
          "base_uri": "https://localhost:8080/"
        },
        "id": "R9x_0VXLcMbP",
        "outputId": "bb91ddda-7eee-40df-ca3e-3b2aeb6f554a"
      },
      "execution_count": null,
      "outputs": [
        {
          "output_type": "stream",
          "name": "stdout",
          "text": [
            "kg to gram 5000\n"
          ]
        }
      ]
    },
    {
      "cell_type": "markdown",
      "source": [
        "13.) Convert bytes into KB, MB and GB."
      ],
      "metadata": {
        "id": "zqRlGM7icTPF"
      }
    },
    {
      "cell_type": "code",
      "source": [
        "byte = 5000\n",
        "kb = byte / 1024\n",
        "mb = kb /1042\n",
        "gb = mb / 1024\n",
        "print('byte to kb is',kb,'byte to mb is ',mb,'byte to gb is ',gb)"
      ],
      "metadata": {
        "colab": {
          "base_uri": "https://localhost:8080/"
        },
        "id": "syeOhSwvcYQ5",
        "outputId": "5eb2ba32-fafb-4f10-caed-a0702bfd4ecf"
      },
      "execution_count": null,
      "outputs": [
        {
          "output_type": "stream",
          "name": "stdout",
          "text": [
            "byte to kb is 4.8828125 byte to mb is  0.004686000479846449 byte to gb is  4.576172343600048e-06\n"
          ]
        }
      ]
    },
    {
      "cell_type": "markdown",
      "source": [
        "14.) Convert celcius into Fahrenheit. F = (9/5 * C) + 32"
      ],
      "metadata": {
        "id": "G_UDL4Qlci7o"
      }
    },
    {
      "cell_type": "code",
      "source": [
        "celcius = 37\n",
        "fehrenheit = (9/5*celcius)+32\n",
        "print(fehrenheit)"
      ],
      "metadata": {
        "colab": {
          "base_uri": "https://localhost:8080/"
        },
        "id": "ZW-KCNJicoCM",
        "outputId": "533fffc0-befb-46bb-f7ed-a273ebd22a6d"
      },
      "execution_count": null,
      "outputs": [
        {
          "output_type": "stream",
          "name": "stdout",
          "text": [
            "98.60000000000001\n"
          ]
        }
      ]
    },
    {
      "cell_type": "markdown",
      "source": [
        "15.) Convert Fahrenheit into celcius. C = 5/9 * (F – 32)"
      ],
      "metadata": {
        "id": "sPCfaNaWczWB"
      }
    },
    {
      "cell_type": "code",
      "source": [
        "fehrenheit = 98.6\n",
        "celcius = (5/9)*(fehrenheit-32)\n",
        "print(celcius)"
      ],
      "metadata": {
        "colab": {
          "base_uri": "https://localhost:8080/"
        },
        "id": "Vb455nBmc6Qy",
        "outputId": "8af8d2d1-5591-4a96-c3a5-ee7588f8aead"
      },
      "execution_count": null,
      "outputs": [
        {
          "output_type": "stream",
          "name": "stdout",
          "text": [
            "37.0\n"
          ]
        }
      ]
    },
    {
      "cell_type": "markdown",
      "source": [
        "16.) Calculate interest where I = PRN/100."
      ],
      "metadata": {
        "id": "3qOfB_YOdDWz"
      }
    },
    {
      "cell_type": "code",
      "source": [
        "p = 1000\n",
        "t = 10\n",
        "r = 7\n",
        "intrest = (p*t*r)/100\n",
        "print(intrest)"
      ],
      "metadata": {
        "colab": {
          "base_uri": "https://localhost:8080/"
        },
        "id": "xbN0SsNydIQx",
        "outputId": "d1cb72fc-c25a-4991-c44f-71591da93b0f"
      },
      "execution_count": null,
      "outputs": [
        {
          "output_type": "stream",
          "name": "stdout",
          "text": [
            "700.0\n"
          ]
        }
      ]
    },
    {
      "cell_type": "markdown",
      "source": [
        "17.) Calculate area & perimeter of a square. A = L^2, P = 4L"
      ],
      "metadata": {
        "id": "Ld2p9fVPdaA5"
      }
    },
    {
      "cell_type": "code",
      "source": [
        "length = 50\n",
        "area = length ** 2\n",
        "perimeter = 4 * length\n",
        "print(area)\n",
        "print(perimeter)"
      ],
      "metadata": {
        "colab": {
          "base_uri": "https://localhost:8080/"
        },
        "id": "FBhklWRfdbHT",
        "outputId": "f0ad476e-dd39-4a81-af9e-21778f1ba57d"
      },
      "execution_count": null,
      "outputs": [
        {
          "output_type": "stream",
          "name": "stdout",
          "text": [
            "2500\n",
            "200\n"
          ]
        }
      ]
    },
    {
      "cell_type": "markdown",
      "source": [
        "18.) Calculate area & perimeter of a rectangle. A = L*B, P = 2 (L+B)\n",
        "\n",
        "\n"
      ],
      "metadata": {
        "id": "MR0jxISgdj7B"
      }
    },
    {
      "cell_type": "code",
      "source": [
        "length = 50\n",
        "width = 7\n",
        "area = length * width\n",
        "perimeter = 2*(length + width)\n",
        "print(area)\n",
        "print(perimeter)"
      ],
      "metadata": {
        "colab": {
          "base_uri": "https://localhost:8080/"
        },
        "id": "TWURDu6zdsk-",
        "outputId": "02cd96d2-dad5-46fa-83bf-62d89f1a7087"
      },
      "execution_count": null,
      "outputs": [
        {
          "output_type": "stream",
          "name": "stdout",
          "text": [
            "350\n",
            "114\n"
          ]
        }
      ]
    },
    {
      "cell_type": "markdown",
      "source": [
        "19.) Calculate area of a circle. A = 22/7 * R * R\n",
        "\n",
        "\n"
      ],
      "metadata": {
        "id": "sT9BPmCpeb9I"
      }
    },
    {
      "cell_type": "code",
      "source": [
        "radius = 35\n",
        "area = (22/7)*radius*radius\n",
        "print(area)"
      ],
      "metadata": {
        "colab": {
          "base_uri": "https://localhost:8080/"
        },
        "id": "28QNCIpXehWU",
        "outputId": "044e4865-a38a-4a24-efc5-eda95b6bf9c6"
      },
      "execution_count": null,
      "outputs": [
        {
          "output_type": "stream",
          "name": "stdout",
          "text": [
            "3850.0\n"
          ]
        }
      ]
    },
    {
      "cell_type": "markdown",
      "source": [
        "20.) Calculate area of a triangle. A = H*L/2"
      ],
      "metadata": {
        "id": "r41iH1FOe_WO"
      }
    },
    {
      "cell_type": "code",
      "source": [
        "h = 10\n",
        "l = 5\n",
        "a = (h*l)/2\n",
        "print(a)"
      ],
      "metadata": {
        "colab": {
          "base_uri": "https://localhost:8080/"
        },
        "id": "7axQSWxmfA7B",
        "outputId": "ce01cd75-9f0d-426c-ceec-fbecf25ce596"
      },
      "execution_count": null,
      "outputs": [
        {
          "output_type": "stream",
          "name": "stdout",
          "text": [
            "25.0\n"
          ]
        }
      ]
    },
    {
      "cell_type": "markdown",
      "source": [
        "23.) Calculate average of three subjects along with their total."
      ],
      "metadata": {
        "id": "yeynnUI5fH4K"
      }
    },
    {
      "cell_type": "code",
      "source": [
        "math = 100\n",
        "phy = 68\n",
        "chem = 75\n",
        "total = math + phy + chem\n",
        "avg = total / 3\n",
        "print(total)\n",
        "print(avg)"
      ],
      "metadata": {
        "colab": {
          "base_uri": "https://localhost:8080/"
        },
        "id": "NZnO4o4jfNhc",
        "outputId": "09dd3a10-eaa3-4afb-b494-b651f2d4d646"
      },
      "execution_count": null,
      "outputs": [
        {
          "output_type": "stream",
          "name": "stdout",
          "text": [
            "243\n",
            "81.0\n"
          ]
        }
      ]
    },
    {
      "cell_type": "markdown",
      "source": [
        "24.) Swap two values."
      ],
      "metadata": {
        "id": "d1rniGr_fToU"
      }
    },
    {
      "cell_type": "code",
      "source": [
        "a = 25\n",
        "b = 14\n",
        "a = a + b\n",
        "b = a - b\n",
        "a = a - b\n",
        "print(a,b)"
      ],
      "metadata": {
        "colab": {
          "base_uri": "https://localhost:8080/"
        },
        "id": "RBNWbrdlfa0Z",
        "outputId": "4bae1c16-e823-4066-be08-b9521f65e9ea"
      },
      "execution_count": null,
      "outputs": [
        {
          "output_type": "stream",
          "name": "stdout",
          "text": [
            "14 25\n"
          ]
        }
      ]
    },
    {
      "cell_type": "markdown",
      "source": [
        "22.) Calculate net sales where net sales = gross sales – 10% discount of gross sales."
      ],
      "metadata": {
        "id": "epd9oRqnfmSI"
      }
    },
    {
      "cell_type": "code",
      "source": [
        "grosalary = 100000\n",
        "netsalery = grosalary - (grosalary*10)/100\n",
        "print(netsalery)\n"
      ],
      "metadata": {
        "colab": {
          "base_uri": "https://localhost:8080/"
        },
        "id": "a-Bipu5Hfn38",
        "outputId": "e32537a7-e655-47e9-f3f0-1e5c797b7381"
      },
      "execution_count": null,
      "outputs": [
        {
          "output_type": "stream",
          "name": "stdout",
          "text": [
            "90000.0\n"
          ]
        }
      ]
    },
    {
      "cell_type": "markdown",
      "source": [
        "21.) Calculate net salary where net salary = gross salary + allowance – deduction. Allowances are 10% while deductions are 3% of gross salary.\n",
        "\n",
        "\n"
      ],
      "metadata": {
        "id": "JUU-hCjTf-w0"
      }
    },
    {
      "cell_type": "code",
      "source": [
        "grossalary = 100000\n",
        "allow = (grossalary*10)/100\n",
        "deduc = (grossalary*3)/100\n",
        "netsalary = grossalary + allow -deduc\n",
        "print(netsalary)"
      ],
      "metadata": {
        "colab": {
          "base_uri": "https://localhost:8080/"
        },
        "id": "iiMa_YMdgD0V",
        "outputId": "318e16ab-88e4-4ba2-b46c-286d97f129f3"
      },
      "execution_count": null,
      "outputs": [
        {
          "output_type": "stream",
          "name": "stdout",
          "text": [
            "107000.0\n"
          ]
        }
      ]
    },
    {
      "cell_type": "markdown",
      "source": [
        "If-else conditionals :"
      ],
      "metadata": {
        "id": "YzgIcoB6gPDs"
      }
    },
    {
      "cell_type": "markdown",
      "source": [
        "1)Print largest and smallest values out of two."
      ],
      "metadata": {
        "id": "wqOSi9RlgWGZ"
      }
    },
    {
      "cell_type": "code",
      "source": [
        "num1= 25\n",
        "num2 = 69\n",
        "if (num1>num2):\n",
        "  print(\"Num1 is largest values\")\n",
        "else:\n",
        "  print(\"num1 is smallest\")\n",
        "\n",
        "if(num2>num1):\n",
        "  print(\"num2 is largest values\")\n",
        "else:\n",
        "  print(\"num2 is smallest\")\n"
      ],
      "metadata": {
        "colab": {
          "base_uri": "https://localhost:8080/"
        },
        "id": "08TmzG9qgdiz",
        "outputId": "598c2fc9-c69d-4af0-8afd-7dc405673765"
      },
      "execution_count": null,
      "outputs": [
        {
          "output_type": "stream",
          "name": "stdout",
          "text": [
            "num1 is smallest\n",
            "num2 is largest values\n"
          ]
        }
      ]
    },
    {
      "cell_type": "markdown",
      "source": [
        "2.) Print largest and smallest values out of three.\n",
        "\n"
      ],
      "metadata": {
        "id": "vuy-ECeygn_7"
      }
    },
    {
      "cell_type": "code",
      "source": [
        "num1 = 45\n",
        "num2 = 56\n",
        "num3 = 19\n",
        "if(num1>num2 and num1 >num3):\n",
        "  print(\"num1 is largest values\")\n",
        "else:\n",
        "  print(\"num1 is smallest\")\n",
        "if(num2>num3 and num2>num1):\n",
        "    print(\"num2 is largest values\")\n",
        "else:\n",
        "  print(\"num2 is smallest\")\n",
        "if(num3>num1 and num3>num2):\n",
        "  print(\"num3 is largest\")\n",
        "else:\n",
        "  print(\"num3 is smallest\")"
      ],
      "metadata": {
        "colab": {
          "base_uri": "https://localhost:8080/"
        },
        "id": "XZ6vnRe9gtl8",
        "outputId": "09c5b8be-0f38-4211-e0d5-86e191f96347"
      },
      "execution_count": null,
      "outputs": [
        {
          "output_type": "stream",
          "name": "stdout",
          "text": [
            "num1 is smallest\n",
            "num2 is largest values\n",
            "num3 is smallest\n"
          ]
        }
      ]
    },
    {
      "cell_type": "markdown",
      "source": [
        "3) Check whether a given number is odd or even\n",
        "\n",
        "\n"
      ],
      "metadata": {
        "id": "3Ujf94pag3fp"
      }
    },
    {
      "cell_type": "code",
      "source": [
        "num = 7\n",
        "if(num%2==0):\n",
        "  print(\"Even\")\n",
        "else:\n",
        "  print(\"odd\")"
      ],
      "metadata": {
        "colab": {
          "base_uri": "https://localhost:8080/"
        },
        "id": "4mFNj7Nkg90u",
        "outputId": "35e493cb-ceea-4d1a-db66-c39a2b896415"
      },
      "execution_count": null,
      "outputs": [
        {
          "output_type": "stream",
          "name": "stdout",
          "text": [
            "odd\n"
          ]
        }
      ]
    },
    {
      "cell_type": "markdown",
      "source": [
        "4) Check whether a given number is divisible by 10 or not."
      ],
      "metadata": {
        "id": "gHLRcn-ghFbI"
      }
    },
    {
      "cell_type": "code",
      "source": [
        "num = 600\n",
        "if(num%10==0):\n",
        "  print(\"it is divisiable by 10\")\n",
        "\n",
        "else:\n",
        "  print(\" it is not divisiable by 10\")"
      ],
      "metadata": {
        "colab": {
          "base_uri": "https://localhost:8080/"
        },
        "id": "6M2CPAlKhMnP",
        "outputId": "b27be7f9-d077-4549-b514-66b84f5f7964"
      },
      "execution_count": null,
      "outputs": [
        {
          "output_type": "stream",
          "name": "stdout",
          "text": [
            "it is divisiable by 10\n"
          ]
        }
      ]
    },
    {
      "cell_type": "markdown",
      "source": [
        "5) Accept age of a person. If age is less than 18, print minor otherwise Major.\n",
        "\n"
      ],
      "metadata": {
        "id": "2n_aft0ihewU"
      }
    },
    {
      "cell_type": "code",
      "source": [
        "age = int(input(\"Enter the age of person:\"))\n",
        "if(age<18):\n",
        "  print(\"minor\")\n",
        "\n",
        "else:\n",
        "  print(\"major\")"
      ],
      "metadata": {
        "colab": {
          "base_uri": "https://localhost:8080/"
        },
        "id": "s59L5pithjN0",
        "outputId": "b7234f80-f84d-4eb1-8f1b-ed9f490610a9"
      },
      "execution_count": null,
      "outputs": [
        {
          "output_type": "stream",
          "name": "stdout",
          "text": [
            "Enter the age of person:23\n",
            "major\n"
          ]
        }
      ]
    },
    {
      "cell_type": "markdown",
      "source": [
        "6) Accept a number from the user. And print number of digits in it.\n",
        "\n"
      ],
      "metadata": {
        "id": "hjMKQKFdhzHA"
      }
    },
    {
      "cell_type": "code",
      "source": [
        "num = input(\"Enter the numbers:\")\n",
        "print(len(num))"
      ],
      "metadata": {
        "colab": {
          "base_uri": "https://localhost:8080/"
        },
        "id": "kBI-ekVxh1yM",
        "outputId": "9d2010b1-8156-493f-869b-d8d9fc61ad4e"
      },
      "execution_count": null,
      "outputs": [
        {
          "output_type": "stream",
          "name": "stdout",
          "text": [
            "Enter the numbers:123456789014\n",
            "12\n"
          ]
        }
      ]
    },
    {
      "cell_type": "markdown",
      "source": [
        "7) Accept a year value from the user. Check whether it is a leap year or not.\n",
        "\n"
      ],
      "metadata": {
        "id": "ffQWvRqCiCzW"
      }
    },
    {
      "cell_type": "code",
      "source": [
        "year = int(input(\"Enter the year:\"))\n",
        "if( year % 4 == 0 and ( year % 400 == 0 or year % 100 != 0 )):\n",
        "  print(\"it is a leap year\")\n",
        "else:\n",
        "  print(\"it is not leap year\")"
      ],
      "metadata": {
        "colab": {
          "base_uri": "https://localhost:8080/"
        },
        "id": "LO0bGzsqiL6R",
        "outputId": "b7da795a-00bc-4c1e-ea47-fcd9345a8f73"
      },
      "execution_count": null,
      "outputs": [
        {
          "output_type": "stream",
          "name": "stdout",
          "text": [
            "Enter the year:2025\n",
            "it is not leap year\n"
          ]
        }
      ]
    },
    {
      "cell_type": "markdown",
      "source": [
        "8) Check whether a triangle is valid or not, when the three angles of the triangle are entered through the keyboard. A triangle is valid if te sum of all the three angles is equal to 180 degrees."
      ],
      "metadata": {
        "id": "t3ltWdp2iln5"
      }
    },
    {
      "cell_type": "code",
      "source": [
        "side1 = int(input(\"Enter the 1st side:\"))\n",
        "side2 = int(input(\"Enter the 2nd side:\"))\n",
        "side3  = int(input(\"Enter the 3rd side:\"))\n",
        "if(side1 + side2 +side3 == 180):\n",
        "  print(\"triange is valid\")\n",
        "else:\n",
        "  print(\"triange is invalid\")\n",
        "\n",
        "\n",
        "\n"
      ],
      "metadata": {
        "colab": {
          "base_uri": "https://localhost:8080/"
        },
        "id": "ojhJBDffipX8",
        "outputId": "7d56c8b8-3af3-4cb2-8f9b-a8da507020b7"
      },
      "execution_count": null,
      "outputs": [
        {
          "output_type": "stream",
          "name": "stdout",
          "text": [
            "Enter the 1st side:45\n",
            "Enter the 2nd side:45\n",
            "Enter the 3rd side:90\n",
            "triange is valid\n"
          ]
        }
      ]
    },
    {
      "cell_type": "markdown",
      "source": [
        "9) Print absolute value of a given number."
      ],
      "metadata": {
        "id": "HMIt4njfjZD_"
      }
    },
    {
      "cell_type": "code",
      "source": [
        "num  = -7\n",
        "print(abs(num))"
      ],
      "metadata": {
        "colab": {
          "base_uri": "https://localhost:8080/"
        },
        "id": "dm2jvUT3jgfZ",
        "outputId": "b3764bb1-db8c-40d4-8365-f9da85fdf6ed"
      },
      "execution_count": null,
      "outputs": [
        {
          "output_type": "stream",
          "name": "stdout",
          "text": [
            "7\n"
          ]
        }
      ]
    },
    {
      "cell_type": "markdown",
      "source": [
        "10) Given the length and breadth of a rectangle, write a program to find whether theare of the rectangle is greater than its perimeter.\n",
        "\n",
        "\n"
      ],
      "metadata": {
        "id": "cVwQ9KL8jsUG"
      }
    },
    {
      "cell_type": "code",
      "source": [
        "len = 87\n",
        "breath = 41\n",
        "area = len * breath\n",
        "perimeter = 2*(len + breath)\n",
        "if(area > perimeter):\n",
        "  print('area is greater than perimeter')\n",
        "else:\n",
        "  print('area is smaller than perimeter')"
      ],
      "metadata": {
        "colab": {
          "base_uri": "https://localhost:8080/"
        },
        "id": "V2IVKIiOj3Fv",
        "outputId": "dc9ff648-80bd-410b-8474-343fa6b859f0"
      },
      "execution_count": null,
      "outputs": [
        {
          "output_type": "stream",
          "name": "stdout",
          "text": [
            "area is greater than perimeter\n"
          ]
        }
      ]
    },
    {
      "cell_type": "markdown",
      "source": [
        "11) Given three points (x1,y1), (x2,y2) and (x3,y3), check if all the three points fall on one straight line\n",
        "\n",
        "\n"
      ],
      "metadata": {
        "id": "ESXK3QW0kEg7"
      }
    },
    {
      "cell_type": "code",
      "source": [
        "x1 = 2\n",
        "x2 = 1\n",
        "x3 =6\n",
        "y1 =9\n",
        "y2 = 7\n",
        "y3 =4\n",
        "a = (x1*(y2-y3))+(x2*(y3-y1))+(x3*(y1-y2))\n",
        "if (a == 0):\n",
        "  print('all the points fall on one stright line')\n",
        "else:\n",
        "  print(\"all the points dont fall on one stright line\")"
      ],
      "metadata": {
        "colab": {
          "base_uri": "https://localhost:8080/"
        },
        "id": "g1TY4D7akHXU",
        "outputId": "4f2a2275-b8ca-41ca-d5f9-486804e4fed4"
      },
      "execution_count": null,
      "outputs": [
        {
          "output_type": "stream",
          "name": "stdout",
          "text": [
            "all the points dont fall on one stright line\n"
          ]
        }
      ]
    },
    {
      "cell_type": "markdown",
      "source": [
        "12) Given the coordinates (x,y) of center of a circle and its radius, determine whether a point lies inside the circle, on the circle or outside the circle. (Hint: Use sqrt( ), pow( ) )"
      ],
      "metadata": {
        "id": "_0B0UBBUkT-W"
      }
    },
    {
      "cell_type": "code",
      "source": [
        "import math\n",
        "\n",
        "\n",
        "circle_x = 5\n",
        "circle_y = 1\n",
        "radius = 8\n",
        "point_x = 3\n",
        "point_y = 7\n",
        "\n",
        "\n",
        "distance = math.sqrt(math.pow(point_x - circle_x, 2) + math.pow(point_y - circle_y, 2))\n",
        "\n",
        "\n",
        "if distance < radius:\n",
        "    print(f\"The point ({point_x}, {point_y}) is inside the circle.\")\n",
        "elif distance == radius:\n",
        "    print(f\"The point ({point_x}, {point_y}) is on the circle.\")\n",
        "else:\n",
        "    print(f\"The point ({point_x}, {point_y}) is outside the circle.\")\n"
      ],
      "metadata": {
        "colab": {
          "base_uri": "https://localhost:8080/"
        },
        "id": "ep2t9HDmkWpg",
        "outputId": "a4ae6005-420d-40a4-cce4-e36955a02850"
      },
      "execution_count": null,
      "outputs": [
        {
          "output_type": "stream",
          "name": "stdout",
          "text": [
            "The point (3, 7) is inside the circle.\n"
          ]
        }
      ]
    },
    {
      "cell_type": "markdown",
      "source": [
        "13) Convert number 0 to 19 to its equivalent words. E.g. 0  zero, 19nineteen."
      ],
      "metadata": {
        "id": "AjDO5y2Tko2y"
      }
    },
    {
      "cell_type": "code",
      "source": [
        "number = 7\n",
        "\n",
        "number_words = [\n",
        "    \"zero\", \"one\", \"two\", \"three\", \"four\", \"five\", \"six\", \"seven\", \"eight\", \"nine\",\n",
        "    \"ten\", \"eleven\", \"twelve\", \"thirteen\", \"fourteen\", \"fifteen\", \"sixteen\",\n",
        "    \"seventeen\", \"eighteen\", \"nineteen\"\n",
        "]\n",
        "\n",
        "\n",
        "if 0 <= number <= 19:\n",
        "    print(f\"The number {number} is written as '{number_words[number]}'.\")\n",
        "else:\n",
        "    print(\"Number is out of range (0-19).\")"
      ],
      "metadata": {
        "colab": {
          "base_uri": "https://localhost:8080/"
        },
        "id": "GPvvFtPIk1FE",
        "outputId": "19bc0d57-3816-41a5-8a6b-cb0c0cc489e3"
      },
      "execution_count": null,
      "outputs": [
        {
          "output_type": "stream",
          "name": "stdout",
          "text": [
            "The number 7 is written as 'seven'.\n"
          ]
        }
      ]
    },
    {
      "cell_type": "markdown",
      "source": [
        "14) Accept marks of three subjects. Print total and average along with whether a candidate has passed or fail. If student secures <= 39 marks in any subject, consider him as fail. Also assigned a subject wise grade based on the following table: bold text\n",
        "\n"
      ],
      "metadata": {
        "id": "lBkbOOaelA7_"
      }
    },
    {
      "cell_type": "code",
      "source": [
        "sub1 = int(input(\"Enter the maths mark:\"))\n",
        "sub2 = int(input(\"Enter the chemistry mark:\"))\n",
        "sub3 = int(input(\"Enter the physics mark:\"))\n",
        "sum = sub1+sub2+sub3 /3\n",
        "if(sub1 <= 39 or sub2 <=39 or sub3<=39):\n",
        "  print(\"Fail\")\n",
        "\n",
        "elif(sum>= 40 and sum <=44 ):\n",
        "  print(\"P\")\n",
        "\n",
        "elif(sum>= 45 and sum <=49 ):\n",
        "  print(\"C\")\n",
        "\n",
        "elif(sum>= 50 and sum <=54 ):\n",
        "  print(\"B\")\n",
        "\n",
        "elif(sum>= 55 and sum <=59 ):\n",
        "  print(\"B+\")\n",
        "\n",
        "elif(sum>= 60 and sum <= 69 ):\n",
        "  print(\"A\")\n",
        "\n",
        "elif(sum>= 70 and sum <= 79):\n",
        "  print(\"A+\")\n",
        "\n",
        "elif(sum>= 80 and sum <=100 ):\n",
        "  print(\"O\")\n",
        "\n",
        "else:\n",
        "  print(\"good\")\n"
      ],
      "metadata": {
        "colab": {
          "base_uri": "https://localhost:8080/"
        },
        "id": "whv4CTIMlMBn",
        "outputId": "0621835e-2f07-4cd5-fbc6-5df5735badc9"
      },
      "execution_count": null,
      "outputs": [
        {
          "output_type": "stream",
          "name": "stdout",
          "text": [
            "Enter the maths mark:99\n",
            "Enter the chemistry mark:80\n",
            "Enter the physics mark:50\n",
            "good\n"
          ]
        }
      ]
    },
    {
      "cell_type": "markdown",
      "source": [
        "Loops in Python :"
      ],
      "metadata": {
        "id": "sRCjXC6ULNps"
      }
    },
    {
      "cell_type": "markdown",
      "source": [
        "1)\tPrint all alphabets in upper case and in lower case."
      ],
      "metadata": {
        "id": "7wU2lfxELYi4"
      }
    },
    {
      "cell_type": "code",
      "source": [
        "\n",
        "for i in range(65, 91):\n",
        "    print(chr(i), end=\" \")\n",
        "print()\n",
        "\n",
        "\n",
        "for i in range(97, 123):\n",
        "    print(chr(i), end=\" \")\n",
        "print()"
      ],
      "metadata": {
        "colab": {
          "base_uri": "https://localhost:8080/"
        },
        "id": "JUktbdpfLbFY",
        "outputId": "e23cf678-9c2c-471a-b12d-d6640944c70a"
      },
      "execution_count": null,
      "outputs": [
        {
          "output_type": "stream",
          "name": "stdout",
          "text": [
            "A B C D E F G H I J K L M N O P Q R S T U V W X Y Z \n",
            "a b c d e f g h i j k l m n o p q r s t u v w x y z \n"
          ]
        }
      ]
    },
    {
      "cell_type": "markdown",
      "source": [
        "2)\tPrint a multiplication table of a given number."
      ],
      "metadata": {
        "id": "DCpPtawCQF9o"
      }
    },
    {
      "cell_type": "code",
      "source": [
        "\n",
        "def multiplication_table(number, upto=10):\n",
        "    for i in range(1, upto + 1):\n",
        "        print(f\"{number} x {i} = {number * i}\")\n",
        "\n",
        "\n",
        "number = int(input(\"Enter a number: \"))\n",
        "multiplication_table(number)"
      ],
      "metadata": {
        "colab": {
          "base_uri": "https://localhost:8080/"
        },
        "id": "a7FcmnoCQKv2",
        "outputId": "8af2a4f7-8a1b-4c48-d4fd-50b1f90032e8"
      },
      "execution_count": null,
      "outputs": [
        {
          "output_type": "stream",
          "name": "stdout",
          "text": [
            "Enter a number: 5\n",
            "5 x 1 = 5\n",
            "5 x 2 = 10\n",
            "5 x 3 = 15\n",
            "5 x 4 = 20\n",
            "5 x 5 = 25\n",
            "5 x 6 = 30\n",
            "5 x 7 = 35\n",
            "5 x 8 = 40\n",
            "5 x 9 = 45\n",
            "5 x 10 = 50\n"
          ]
        }
      ]
    },
    {
      "cell_type": "markdown",
      "source": [
        "3)\tCount no. of alphabets and no. of digits in any given string."
      ],
      "metadata": {
        "id": "ULHbwQX5RiYJ"
      }
    },
    {
      "cell_type": "code",
      "source": [
        "\n",
        "def alphabets_digits(input_string):\n",
        "    alphabets = 0\n",
        "    digits = 0\n",
        "\n",
        "    for char in input_string:\n",
        "        if char.isalpha():\n",
        "            alphabets += 1\n",
        "        elif char.isdigit():\n",
        "            digits += 1\n",
        "\n",
        "    return alphabets, digits\n",
        "\n",
        "input_string = input(\"Enter a string: \")\n",
        "alphabets, digits = alphabets_digits(input_string)\n",
        "\n",
        "print(f\"Number of alphabets: {alphabets}\")\n",
        "print(f\"Number of digits: {digits}\")"
      ],
      "metadata": {
        "colab": {
          "base_uri": "https://localhost:8080/"
        },
        "id": "Z4Ri8V2iRnbf",
        "outputId": "c7ede5b9-dc1f-4ca1-d74c-253e72c3c795"
      },
      "execution_count": null,
      "outputs": [
        {
          "output_type": "stream",
          "name": "stdout",
          "text": [
            "Enter a string: hello world\n",
            "Number of alphabets: 10\n",
            "Number of digits: 0\n"
          ]
        }
      ]
    },
    {
      "cell_type": "markdown",
      "source": [
        "4)\tCheck whether a given number is prime, is perfect, is Armstrong, is palindrome, is automorphic."
      ],
      "metadata": {
        "id": "Yvgblm1XScLE"
      }
    },
    {
      "cell_type": "code",
      "source": [
        "def prime(number):\n",
        "    if number <= 1:\n",
        "        return False\n",
        "    for i in range(2, int(number ** 0.5) + 1):\n",
        "        if number % i == 0:\n",
        "            return False\n",
        "    return True\n",
        "\n",
        "def perfect(number):\n",
        "    if number <= 0:\n",
        "        return False\n",
        "    sum_of_divisors = sum(i for i in range(1, number) if number % i == 0)\n",
        "    return sum_of_divisors == number\n",
        "\n",
        "def armstrong(number):\n",
        "    num_str = str(number)\n",
        "    num_digits = len(num_str)\n",
        "    sum_of_powers = sum(int(digit) ** num_digits for digit in num_str)\n",
        "    return sum_of_powers == number\n",
        "\n",
        "def palindrome(number):\n",
        "    num_str = str(number)\n",
        "    return num_str == num_str[::-1]\n",
        "\n",
        "def automorphic(number):\n",
        "    num_str = str(number)\n",
        "    squared_num_str = str(number ** 2)\n",
        "    return squared_num_str.endswith(num_str)\n",
        "\n",
        "# Example usage\n",
        "number = int(input(\"Enter a number: \"))\n",
        "print(f\"Is Prime: {prime(number)}\")\n",
        "print(f\"Is Perfect: {perfect(number)}\")\n",
        "print(f\"Is Armstrong: {armstrong(number)}\")\n",
        "print(f\"Is Palindrome: {palindrome(number)}\")\n",
        "print(f\"Is Automorphic: {automorphic(number)}\")"
      ],
      "metadata": {
        "colab": {
          "base_uri": "https://localhost:8080/"
        },
        "id": "kHAaRFwWSjbr",
        "outputId": "4ec228c2-6a3e-451c-a88f-00443cba72ba"
      },
      "execution_count": null,
      "outputs": [
        {
          "output_type": "stream",
          "name": "stdout",
          "text": [
            "Enter a number: 909\n",
            "Is Prime: False\n",
            "Is Perfect: False\n",
            "Is Armstrong: False\n",
            "Is Palindrome: True\n",
            "Is Automorphic: False\n"
          ]
        }
      ]
    },
    {
      "cell_type": "markdown",
      "source": [
        "5)\tGenerate all Pythagorean Triplets with side length <= 30."
      ],
      "metadata": {
        "id": "zwt6CCqwThG-"
      }
    },
    {
      "cell_type": "code",
      "source": [
        "def pythagorean_triplets(limit):\n",
        "    triplets = []\n",
        "    for a in range(1, limit + 1):\n",
        "        for b in range(a, limit + 1):\n",
        "            c = (a**2 + b**2)**0.5\n",
        "            if c.is_integer() and c <= limit:\n",
        "                triplets.append((a, b, int(c)))\n",
        "    return triplets\n",
        "\n",
        "triplets = pythagorean_triplets(30)\n",
        "for triplet in triplets:\n",
        "    print(triplet)"
      ],
      "metadata": {
        "colab": {
          "base_uri": "https://localhost:8080/"
        },
        "id": "9r-WUn7lTntb",
        "outputId": "e266c9a8-3886-4efc-e33e-3295d235c4cd"
      },
      "execution_count": null,
      "outputs": [
        {
          "output_type": "stream",
          "name": "stdout",
          "text": [
            "(3, 4, 5)\n",
            "(5, 12, 13)\n",
            "(6, 8, 10)\n",
            "(7, 24, 25)\n",
            "(8, 15, 17)\n",
            "(9, 12, 15)\n",
            "(10, 24, 26)\n",
            "(12, 16, 20)\n",
            "(15, 20, 25)\n",
            "(18, 24, 30)\n",
            "(20, 21, 29)\n"
          ]
        }
      ]
    },
    {
      "cell_type": "markdown",
      "source": [
        "6)\tPrint 24 hours of day with suitable suffixes like AM, PM, Noon and Midnight."
      ],
      "metadata": {
        "id": "R4rBBltNVCkj"
      }
    },
    {
      "cell_type": "code",
      "source": [
        "def  _hours():\n",
        "    hours = [\n",
        "        \"12 Midnight\", \"1 AM\", \"2 AM\", \"3 AM\", \"4 AM\", \"5 AM\", \"6 AM\", \"7 AM\", \"8 AM\", \"9 AM\", \"10 AM\", \"11 AM\",\n",
        "        \"12 Noon\", \"1 PM\", \"2 PM\", \"3 PM\", \"4 PM\", \"5 PM\", \"6 PM\", \"7 PM\", \"8 PM\", \"9 PM\", \"10 PM\", \"11 PM\"\n",
        "    ]\n",
        "    for hour in hours:\n",
        "        print(hour)\n",
        "\n",
        "_hours()"
      ],
      "metadata": {
        "colab": {
          "base_uri": "https://localhost:8080/"
        },
        "id": "aB_CQ93FVJdE",
        "outputId": "5b0657d4-ddc6-4497-b7f3-a484fe925cc4"
      },
      "execution_count": null,
      "outputs": [
        {
          "output_type": "stream",
          "name": "stdout",
          "text": [
            "12 Midnight\n",
            "1 AM\n",
            "2 AM\n",
            "3 AM\n",
            "4 AM\n",
            "5 AM\n",
            "6 AM\n",
            "7 AM\n",
            "8 AM\n",
            "9 AM\n",
            "10 AM\n",
            "11 AM\n",
            "12 Noon\n",
            "1 PM\n",
            "2 PM\n",
            "3 PM\n",
            "4 PM\n",
            "5 PM\n",
            "6 PM\n",
            "7 PM\n",
            "8 PM\n",
            "9 PM\n",
            "10 PM\n",
            "11 PM\n"
          ]
        }
      ]
    },
    {
      "cell_type": "markdown",
      "source": [
        "7)\tPrint nCr and nPr."
      ],
      "metadata": {
        "id": "Tp7ZTaftVcfT"
      }
    },
    {
      "cell_type": "code",
      "source": [
        "import math\n",
        "\n",
        "def nCr(n, r):\n",
        "    return math.comb(n, r)\n",
        "\n",
        "def nPr(n, r):\n",
        "    return math.perm(n, r)\n",
        "\n",
        "n = 15\n",
        "r = 9\n",
        "print(f\"nCr({n}, {r}) = {nCr(n, r)}\")\n",
        "print(f\"nPr({n}, {r}) = {nPr(n, r)}\")"
      ],
      "metadata": {
        "colab": {
          "base_uri": "https://localhost:8080/"
        },
        "id": "4oN3AvxIVizA",
        "outputId": "946d7702-5a50-420d-bc84-fdf7dbff5386"
      },
      "execution_count": null,
      "outputs": [
        {
          "output_type": "stream",
          "name": "stdout",
          "text": [
            "nCr(15, 9) = 5005\n",
            "nPr(15, 9) = 1816214400\n"
          ]
        }
      ]
    },
    {
      "cell_type": "markdown",
      "source": [
        "8)\tPrint factorial of a given number."
      ],
      "metadata": {
        "id": "vvirofcaVzdG"
      }
    },
    {
      "cell_type": "code",
      "source": [
        "def factorial(n):\n",
        "    if n == 0:\n",
        "        return 1\n",
        "    else:\n",
        "        return n * factorial(n-1)\n",
        "\n",
        "num = int(input(\"Enter a number: \"))\n",
        "\n",
        "if num < 0:\n",
        "    print(\"Sorry, factorial does not exist for negative numbers.\")\n",
        "else:\n",
        "    print(f\"The factorial of {num} is {factorial(num)}\")"
      ],
      "metadata": {
        "colab": {
          "base_uri": "https://localhost:8080/"
        },
        "id": "4VKwHTw7V35-",
        "outputId": "23df84fb-6db5-42a3-ca16-b36b1fd17a09"
      },
      "execution_count": null,
      "outputs": [
        {
          "output_type": "stream",
          "name": "stdout",
          "text": [
            "Enter a number: 4\n",
            "The factorial of 4 is 24\n"
          ]
        }
      ]
    },
    {
      "cell_type": "markdown",
      "source": [
        "9)\tPrint N natural nos. in reverse."
      ],
      "metadata": {
        "id": "1OxzmPZnWHx1"
      }
    },
    {
      "cell_type": "code",
      "source": [
        "\n",
        "def natural_numbers(N):\n",
        "    for i in range(N, 0, -1):\n",
        "        print(i, end=' ')\n",
        "\n",
        "\n",
        "num = int(input(\"Enter a number: \"))\n",
        "\n",
        "\n",
        "natural_numbers(num)"
      ],
      "metadata": {
        "colab": {
          "base_uri": "https://localhost:8080/"
        },
        "id": "JsXgnjWoWUhG",
        "outputId": "41718820-3e8f-4c2b-b13d-c0b00ec84c66"
      },
      "execution_count": null,
      "outputs": [
        {
          "output_type": "stream",
          "name": "stdout",
          "text": [
            "Enter a number: 17\n",
            "17 16 15 14 13 12 11 10 9 8 7 6 5 4 3 2 1 "
          ]
        }
      ]
    },
    {
      "cell_type": "markdown",
      "source": [
        "list in python :"
      ],
      "metadata": {
        "id": "1c6a9k0zS95m"
      }
    },
    {
      "cell_type": "markdown",
      "source": [
        "1) Create a list of 5 odd integers using random nos. Similarly create a list of 4 even integers using random nos. Replace the third element of odd integers with a list of 4 even integers. Flattern, sort and print the list. Provide appropriate message at each stage."
      ],
      "metadata": {
        "id": "sUz9caadT-Cv"
      }
    },
    {
      "cell_type": "code",
      "source": [
        "# Generate odd integers\n",
        "odd_integers = random.sample(range(1, 100, 2), 5)\n",
        "print(\"List of 5 odd integers:\", odd_integers)\n",
        "\n",
        "# Generate even integers\n",
        "even_integers = random.sample(range(0, 100, 2), 4)\n",
        "print(\"List of 4 even integers:\", even_integers)\n",
        "\n",
        "# Replace third element\n",
        "odd_integers[2] = even_integers\n",
        "print(\"Updated list with the third odd integer replaced:\", odd_integers)\n",
        "\n",
        "# Flatten the list\n",
        "flattened_list = []\n",
        "for element in odd_integers:\n",
        "    if isinstance(element, list):\n",
        "        flattened_list.extend(element)\n",
        "    else:\n",
        "        flattened_list.append(element)\n",
        "\n",
        "# Sort the flattened list\n",
        "sorted_list = sorted(flattened_list)\n",
        "print(\"Flattened and sorted list:\", sorted_list)"
      ],
      "metadata": {
        "colab": {
          "base_uri": "https://localhost:8080/"
        },
        "id": "wm1ueCR7ve7F",
        "outputId": "42abf7e9-d922-4ab4-feb0-995156157ffd"
      },
      "execution_count": null,
      "outputs": [
        {
          "output_type": "stream",
          "name": "stdout",
          "text": [
            "List of 5 odd integers: [41, 89, 83, 43, 95]\n",
            "List of 4 even integers: [16, 18, 64, 36]\n",
            "Updated list with the third odd integer replaced: [41, 89, [16, 18, 64, 36], 43, 95]\n",
            "Flattened and sorted list: [16, 18, 36, 41, 43, 64, 89, 95]\n"
          ]
        }
      ]
    },
    {
      "cell_type": "markdown",
      "source": [
        "2) Generate 20 random integers and store them in a list. Accept a number from the user and print position of all occurrences of that number in the list."
      ],
      "metadata": {
        "id": "2zp2ooVPV7kd"
      }
    },
    {
      "cell_type": "code",
      "source": [
        "import random\n",
        "\n",
        "random_integers = [random.randint(1, 100) for _ in range(20)]\n",
        "print(\"Generated list of random integers:\", random_integers)\n",
        "\n",
        "user = int(input(\"Enter a number to find its positions in the list: \"))\n",
        "\n",
        "positions = [index for index, value in enumerate(random_integers) if value == user]\n",
        "\n",
        "if positions:\n",
        "    print(f\"The number {user} occurs at positions: {positions}\")\n",
        "else:\n",
        "    print(f\"The number {use} does not occur in the list.\")"
      ],
      "metadata": {
        "colab": {
          "base_uri": "https://localhost:8080/"
        },
        "id": "AIU7-3o9WDVU",
        "outputId": "c47893d4-4dcf-4ddd-ca31-cf0f9f2ebc64"
      },
      "execution_count": null,
      "outputs": [
        {
          "output_type": "stream",
          "name": "stdout",
          "text": [
            "Generated list of random integers: [19, 61, 78, 79, 25, 52, 82, 18, 35, 27, 73, 64, 66, 12, 3, 61, 24, 44, 93, 3]\n",
            "Enter a number to find its positions in the list: 44\n",
            "The number 44 occurs at positions: [17]\n"
          ]
        }
      ]
    },
    {
      "cell_type": "markdown",
      "source": [
        "3) Generate 50 random numbers in the range 1 and 30. Remove all duplicate values from the list."
      ],
      "metadata": {
        "id": "mvgnhY79Xt8U"
      }
    },
    {
      "cell_type": "code",
      "source": [
        "import random\n",
        "\n",
        "\n",
        "random_numbers = [random.randint(1, 30) for _ in range(50)]\n",
        "\n",
        "duplicate_numbers = list(set(random_numbers))\n",
        "\n",
        "print(\"Random numbers:\", random_numbers)\n",
        "print(\"Unique numbers:\", duplicate_numbers)"
      ],
      "metadata": {
        "colab": {
          "base_uri": "https://localhost:8080/"
        },
        "id": "bvjFVmANXz4T",
        "outputId": "c3d6e3e2-2c05-4457-f402-51d848849e1a"
      },
      "execution_count": null,
      "outputs": [
        {
          "output_type": "stream",
          "name": "stdout",
          "text": [
            "Random numbers: [26, 30, 23, 30, 3, 15, 3, 14, 10, 27, 11, 28, 22, 25, 20, 28, 12, 23, 9, 11, 5, 14, 14, 12, 7, 27, 29, 4, 10, 26, 10, 6, 8, 22, 14, 22, 23, 16, 29, 3, 2, 28, 17, 23, 2, 6, 7, 1, 1, 8]\n",
            "Unique numbers: [1, 2, 3, 4, 5, 6, 7, 8, 9, 10, 11, 12, 14, 15, 16, 17, 20, 22, 23, 25, 26, 27, 28, 29, 30]\n"
          ]
        }
      ]
    },
    {
      "cell_type": "markdown",
      "source": [
        "4) Generate 30 random numbers and put them in a list. Create two more lists – one containing only +ve numbers and another with –ve nos."
      ],
      "metadata": {
        "id": "DnxRvjssZsFJ"
      }
    },
    {
      "cell_type": "code",
      "source": [
        "import random\n",
        "\n",
        "random_numbers = [random.randint(-50, 50) for _ in range(30)]\n",
        "\n",
        "positive_list = [num for num in random_numbers if num > 0]\n",
        "negative_list = [num for num in random_numbers if num < 0]\n",
        "\n",
        "print(\"Random numbers:\", random_numbers)\n",
        "print(\"Positive numbers:\", positive_list)\n",
        "print(\"Negative numbers:\", negative_list)"
      ],
      "metadata": {
        "colab": {
          "base_uri": "https://localhost:8080/"
        },
        "id": "L4b-pHJrZxQ2",
        "outputId": "3716ac60-f0e6-4902-9cbd-9bfa80c0c9bc"
      },
      "execution_count": null,
      "outputs": [
        {
          "output_type": "stream",
          "name": "stdout",
          "text": [
            "Random numbers: [6, 43, 10, 34, -32, 14, 50, -2, -15, -1, -8, -10, -18, 48, -18, -19, 18, -12, 41, 22, 17, 2, 29, 37, -10, 29, 6, -25, -15, -20]\n",
            "Positive numbers: [6, 43, 10, 34, 14, 50, 48, 18, 41, 22, 17, 2, 29, 37, 29, 6]\n",
            "Negative numbers: [-32, -2, -15, -1, -8, -10, -18, -18, -19, -12, -10, -25, -15, -20]\n"
          ]
        }
      ]
    },
    {
      "cell_type": "markdown",
      "source": [
        "5) A list contains 5 strings. Convert all these strings to uppercase."
      ],
      "metadata": {
        "id": "r1DMiWtOaKz2"
      }
    },
    {
      "cell_type": "code",
      "source": [
        "\n",
        "stringslist = [\"hello\", \"world\", \"python\", \"programming\", \"rocks\"]\n",
        "\n",
        "uppercaselist = [string.upper() for string in stringslist]\n",
        "\n",
        "print(\"Original list:\", stringslist)\n",
        "print(\"Uppercase list:\", uppercaselist)"
      ],
      "metadata": {
        "colab": {
          "base_uri": "https://localhost:8080/"
        },
        "id": "gpa-LavyaPy2",
        "outputId": "d51a871a-7a64-4f1c-e694-c944b98fdf02"
      },
      "execution_count": null,
      "outputs": [
        {
          "output_type": "stream",
          "name": "stdout",
          "text": [
            "Original list: ['hello', 'world', 'python', 'programming', 'rocks']\n",
            "Uppercase list: ['HELLO', 'WORLD', 'PYTHON', 'PROGRAMMING', 'ROCKS']\n"
          ]
        }
      ]
    },
    {
      "cell_type": "markdown",
      "source": [
        "6) Convert list of temperatures in Fahrenheit degrees to equivalent Celsius degrees."
      ],
      "metadata": {
        "id": "kSrKSbRfaaFG"
      }
    },
    {
      "cell_type": "code",
      "source": [
        "\n",
        "def fahrenheit_to_celsius(fahrenheit):\n",
        "    return (fahrenheit - 32) * 5/9\n",
        "\n",
        "fahrenheit_temps = [37, 68, 98.6, -40]\n",
        "\n",
        "celsius_temps = [fahrenheit_to_celsius(temp) for temp in fahrenheit_temps]\n",
        "\n",
        "print(\"Temperatures in Fahrenheit:\", fahrenheit_temps)\n",
        "print(\"Equivalent temperatures in Celsius:\", celsius_temps)"
      ],
      "metadata": {
        "colab": {
          "base_uri": "https://localhost:8080/"
        },
        "id": "ErXLU5IoagoF",
        "outputId": "ad4c8b54-542e-4185-e600-04399a36e2e4"
      },
      "execution_count": null,
      "outputs": [
        {
          "output_type": "stream",
          "name": "stdout",
          "text": [
            "Temperatures in Fahrenheit: [37, 68, 98.6, -40]\n",
            "Equivalent temperatures in Celsius: [2.7777777777777777, 20.0, 37.0, -40.0]\n"
          ]
        }
      ]
    },
    {
      "cell_type": "markdown",
      "source": [
        "7) Write a menu-driven program to implement the stack data structure."
      ],
      "metadata": {
        "id": "jjDT-SwMayeR"
      }
    },
    {
      "cell_type": "code",
      "source": [
        "class Stack:\n",
        "    def init_(self):\n",
        "        self.stack = []\n",
        "\n",
        "    def empty_(self):\n",
        "        return len(self.stack) == 0\n",
        "\n",
        "    def push_(self, item):\n",
        "        self.stack.append(item)\n",
        "        print(f\"{item} pushed to stack.\")\n",
        "\n",
        "    def pop_(self):\n",
        "        if self.is_empty():\n",
        "            print(\"Stack is empty!\")\n",
        "        else:\n",
        "            item = self.stack.pop()\n",
        "            print(f\"{item} popped from stack.\")\n",
        "\n",
        "    def display_(self):\n",
        "        if self.is_empty():\n",
        "            print(\"Stack is empty!\")\n",
        "        else:\n",
        "            print(\"Stack elements:\", self.stack)\n",
        "\n",
        "def main():\n",
        "    stack = Stack()\n",
        "\n",
        "    while True:\n",
        "        print(\"\\nMenu:\")\n",
        "        print(\"1. Push\")\n",
        "        print(\"2. Pop\")\n",
        "        print(\"3. Display\")\n",
        "        print(\"4. Exit\")\n",
        "\n",
        "        choice = int(input(\"Enter your choice: \"))\n",
        "\n",
        "        if choice == 1:\n",
        "            item = input(\"Enter the item to push: \")\n",
        "            stack.push(item)\n",
        "        elif choice == 2:\n",
        "            stack.pop()\n",
        "        elif choice == 3:\n",
        "            stack.display()\n",
        "        elif choice == 4:\n",
        "            print(\"Exiting...\")\n",
        "            break\n",
        "        else:\n",
        "            print(\"Invalid choice! Please choose again.\")\n",
        "\n",
        "if __name__ == \"__main__\":\n",
        "    main()"
      ],
      "metadata": {
        "colab": {
          "base_uri": "https://localhost:8080/"
        },
        "id": "CQhGU4MIa43H",
        "outputId": "b7d32761-0efb-448c-fd1b-4dd8b90e38b8"
      },
      "execution_count": null,
      "outputs": [
        {
          "output_type": "stream",
          "name": "stdout",
          "text": [
            "\n",
            "Menu:\n",
            "1. Push\n",
            "2. Pop\n",
            "3. Display\n",
            "4. Exit\n",
            "Enter your choice: 4\n",
            "Exiting...\n"
          ]
        }
      ]
    },
    {
      "cell_type": "markdown",
      "source": [
        "8) Write a menu-driven program to implement the Queue data structure."
      ],
      "metadata": {
        "id": "G8IhmBi_cJ0Q"
      }
    },
    {
      "cell_type": "code",
      "source": [
        "queue = []\n",
        "\n",
        "def enqueue():\n",
        "    item = input(\"Enter the item to enqueue: \")\n",
        "    queue.append(item)\n",
        "    print(f\"{item} enqueued to queue.\")\n",
        "\n",
        "def dequeue():\n",
        "    if not queue:\n",
        "        print(\"Queue is empty!\")\n",
        "    else:\n",
        "        item = queue.pop(0)\n",
        "        print(f\"{item} dequeued from queue.\")\n",
        "\n",
        "def display():\n",
        "    if not queue:\n",
        "        print(\"Queue is empty!\")\n",
        "    else:\n",
        "        print(\"Queue elements:\", queue)\n",
        "\n",
        "while True:\n",
        "    print(\"\\nMenu:\")\n",
        "    print(\"1. Enqueue\")\n",
        "    print(\"2. Dequeue\")\n",
        "    print(\"3. Display\")\n",
        "    print(\"4. Exit\")\n",
        "\n",
        "    choice = int(input(\"Enter your choice: \"))\n",
        "\n",
        "    if choice == 1:\n",
        "        enqueue()\n",
        "    elif choice == 2:\n",
        "        dequeue()\n",
        "    elif choice == 3:\n",
        "        display()\n",
        "    elif choice == 4:\n",
        "        print(\"Exiting...\")\n",
        "        break\n",
        "    else:\n",
        "        print(\"Invalid choice! Please choose again.\")"
      ],
      "metadata": {
        "colab": {
          "base_uri": "https://localhost:8080/"
        },
        "id": "e3u_W6tZcTg6",
        "outputId": "10ff54c8-78e6-4fd6-a1f1-4ce458b567db"
      },
      "execution_count": null,
      "outputs": [
        {
          "output_type": "stream",
          "name": "stdout",
          "text": [
            "\n",
            "Menu:\n",
            "1. Enqueue\n",
            "2. Dequeue\n",
            "3. Display\n",
            "4. Exit\n",
            "Enter your choice: 3\n",
            "Queue is empty!\n",
            "\n",
            "Menu:\n",
            "1. Enqueue\n",
            "2. Dequeue\n",
            "3. Display\n",
            "4. Exit\n",
            "Enter your choice: 4\n",
            "Exiting...\n"
          ]
        }
      ]
    },
    {
      "cell_type": "markdown",
      "source": [
        "9) Take two lists of numbers. Create third list of numbers for only those numbers from first list which are not there in 2nd list (use list comprehension)."
      ],
      "metadata": {
        "id": "ubSupPI6c5Ug"
      }
    },
    {
      "cell_type": "code",
      "source": [
        "\n",
        "list_1 = [1, 2, 3, 4, 5]\n",
        "list_2 = [4, 5, 6, 7, 8]\n",
        "\n",
        "list_3 = [item for item in list_1 if item not in list_2]\n",
        "\n",
        "print(\"First list:\", list_1)\n",
        "print(\"Second list:\", list_2)\n",
        "print(\"Third list (numbers in first list but not in second list):\", list_3)"
      ],
      "metadata": {
        "colab": {
          "base_uri": "https://localhost:8080/"
        },
        "id": "PBAb4MKPdFzZ",
        "outputId": "dbdbb23b-4991-4e4b-be59-181df8014109"
      },
      "execution_count": null,
      "outputs": [
        {
          "output_type": "stream",
          "name": "stdout",
          "text": [
            "First list: [1, 2, 3, 4, 5]\n",
            "Second list: [4, 5, 6, 7, 8]\n",
            "Third list (numbers in first list but not in second list): [1, 2, 3]\n"
          ]
        }
      ]
    },
    {
      "cell_type": "markdown",
      "source": [
        "Tuples in python :"
      ],
      "metadata": {
        "id": "p-rVLtwV06Nf"
      }
    },
    {
      "cell_type": "markdown",
      "source": [
        "1) A list contains names of boys and girls as its elements. Boys’ names are stored as tuples. Write a program to find out number of boys and girls in the list. (Hint: use isinstance(ele,tuple))"
      ],
      "metadata": {
        "id": "Z5zereVs0wmt"
      }
    },
    {
      "cell_type": "code",
      "source": [
        "\n",
        "names = [('prince', 'mihir'), 'priya', ('tirth', 'Smith'), 'kinjal', ('jenish', 'prahar'), 'khushi']\n",
        "\n",
        "number_boys = 0\n",
        "number_girls = 0\n",
        "\n",
        "for name in names:\n",
        "    if isinstance(name, tuple):\n",
        "        num_boys += 1\n",
        "    else:\n",
        "        num_girls += 1\n",
        "\n",
        "print(\"Number of boys:\", number_boys)\n",
        "print(\"Number of girls:\", number_girls)"
      ],
      "metadata": {
        "colab": {
          "base_uri": "https://localhost:8080/"
        },
        "id": "CueHguzZ0xXc",
        "outputId": "73be95ae-f15f-4658-d79d-5f708c124c37"
      },
      "execution_count": null,
      "outputs": [
        {
          "output_type": "stream",
          "name": "stdout",
          "text": [
            "Number of boys: 0\n",
            "Number of girls: 0\n"
          ]
        }
      ]
    },
    {
      "cell_type": "markdown",
      "source": [
        "2) A list contains tuples containing roll no., name and age of student. Write a python program to create three lists separately for roll no., name and age"
      ],
      "metadata": {
        "id": "zoHLEKlB1-Ip"
      }
    },
    {
      "cell_type": "code",
      "source": [
        "\n",
        "students = [(1, 'Tirth', 17), (2, 'Prince', 18), (3, 'Jenish', 19), (4, 'Neel', 23)]\n",
        "\n",
        "roll_number = []\n",
        "name = []\n",
        "age = []\n",
        "\n",
        "for student in students:\n",
        "    roll_number.append(student[0])\n",
        "    name.append(student[1])\n",
        "    age.append(student[2])\n",
        "\n",
        "print(\"List of roll numbers:\", roll_number)\n",
        "print(\"List of names:\", name)\n",
        "print(\"List of ages:\", age)"
      ],
      "metadata": {
        "colab": {
          "base_uri": "https://localhost:8080/"
        },
        "id": "ynpoqVSQ2F_y",
        "outputId": "578515a5-ccdc-4e00-b8ce-e3e96aeb92e9"
      },
      "execution_count": null,
      "outputs": [
        {
          "output_type": "stream",
          "name": "stdout",
          "text": [
            "List of roll numbers: [1, 2, 3, 4]\n",
            "List of names: ['Tirth', 'Prince', 'Jenish', 'Neel']\n",
            "List of ages: [17, 18, 19, 23]\n"
          ]
        }
      ]
    },
    {
      "cell_type": "markdown",
      "source": [
        "3) Suppose a date is represented as a tuple (d, m, y). Create two date tuples and find the number of days between the two dates."
      ],
      "metadata": {
        "id": "6AIbOATN3GqD"
      }
    },
    {
      "cell_type": "code",
      "source": [
        "from datetime import datetime\n",
        "\n",
        "date1 = (18, 2, 2025)\n",
        "date2 = (2, 5, 2025)\n",
        "\n",
        "date_time1 = datetime(date1[2], date1[1], date1[0])\n",
        "date_time2 = datetime(date2[2], date2[1], date2[0])\n",
        "\n",
        "difference = abs((date_time1 - date_time2).days)\n",
        "\n",
        "print(\"Number of days between the two dates:\", difference)"
      ],
      "metadata": {
        "colab": {
          "base_uri": "https://localhost:8080/"
        },
        "id": "JLOFXVfi3M6O",
        "outputId": "3255e7c2-2390-47a9-d68b-5450a007ec31"
      },
      "execution_count": null,
      "outputs": [
        {
          "output_type": "stream",
          "name": "stdout",
          "text": [
            "Number of days between the two dates: 73\n"
          ]
        }
      ]
    },
    {
      "cell_type": "markdown",
      "source": [
        "4) Create a list of tuples containing a food item and its price. Sort the tuples in descending order by price."
      ],
      "metadata": {
        "id": "uzxSoiyP4Fqb"
      }
    },
    {
      "cell_type": "code",
      "source": [
        "\n",
        "food_items = [('Burger', 25.0), ('Pizza', 120.0), ('Salad', 4.50), ('Pasta', 70.0), ('Sushi', 625.00)]\n",
        "\n",
        "sorted_items = sorted(food_items, key=lambda item: item[1], reverse=True)\n",
        "\n",
        "print(\"Food items sorted by price in descending order:\", sorted_items)"
      ],
      "metadata": {
        "colab": {
          "base_uri": "https://localhost:8080/"
        },
        "id": "va1XDWPZ4MOI",
        "outputId": "46c67333-22d8-4ca2-ef79-d1164d6406f9"
      },
      "execution_count": null,
      "outputs": [
        {
          "output_type": "stream",
          "name": "stdout",
          "text": [
            "Food items sorted by price in descending order: [('Sushi', 625.0), ('Pizza', 120.0), ('Pasta', 70.0), ('Burger', 25.0), ('Salad', 4.5)]\n"
          ]
        }
      ]
    },
    {
      "cell_type": "markdown",
      "source": [
        "5) Remove empty tuple(s) from the list of tuples."
      ],
      "metadata": {
        "id": "hbwbh0WD4yRv"
      }
    },
    {
      "cell_type": "code",
      "source": [
        "\n",
        "tuple_list = [('Apple', 25), (), ('Pineapple', 2), ('Orange', 20), (), ('Banana', 11)]\n",
        "\n",
        "filtered_list = [t for t in tuple_list if t]\n",
        "\n",
        "print(\"List after removing empty tuples:\", filtered_list)"
      ],
      "metadata": {
        "colab": {
          "base_uri": "https://localhost:8080/"
        },
        "id": "o3_BVC9s44qJ",
        "outputId": "17b681ea-bc99-4ac2-e823-cf3de227f98d"
      },
      "execution_count": null,
      "outputs": [
        {
          "output_type": "stream",
          "name": "stdout",
          "text": [
            "List after removing empty tuples: [('Apple', 25), ('Pineapple', 2), ('Orange', 20), ('Banana', 11)]\n"
          ]
        }
      ]
    },
    {
      "cell_type": "markdown",
      "source": [
        "6) Modify an element of a tuple."
      ],
      "metadata": {
        "id": "3Tv0bsKD5f25"
      }
    },
    {
      "cell_type": "code",
      "source": [
        "\n",
        "original_tuple = (1, 2, 3, 4, 5)\n",
        "\n",
        "temp_list = list(original_tuple)\n",
        "\n",
        "temp_list[4] = 7\n",
        "\n",
        "modified_tuple = tuple(temp_list)\n",
        "\n",
        "print(\"Original tuple:\", original_tuple)\n",
        "print(\"Modified tuple:\", modified_tuple)"
      ],
      "metadata": {
        "colab": {
          "base_uri": "https://localhost:8080/"
        },
        "id": "wCkzrDEr5mHk",
        "outputId": "8d22d1fc-d768-4067-d5d1-dfef4316bfa2"
      },
      "execution_count": null,
      "outputs": [
        {
          "output_type": "stream",
          "name": "stdout",
          "text": [
            "Original tuple: (1, 2, 3, 4, 5)\n",
            "Modified tuple: (1, 2, 3, 4, 7)\n"
          ]
        }
      ]
    },
    {
      "cell_type": "markdown",
      "source": [
        "7) Delete an element of a tuple."
      ],
      "metadata": {
        "id": "Sw0L3pXT6Ssg"
      }
    },
    {
      "cell_type": "code",
      "source": [
        "\n",
        "original_tuple = (1, 2, 3, 4, 5)\n",
        "\n",
        "temp_list = list(original_tuple)\n",
        "\n",
        "temp_list.remove(1)\n",
        "\n",
        "modified_tuple = tuple(temp_list)\n",
        "\n",
        "print(\"Original tuple:\", original_tuple)\n",
        "print(\"Modified tuple after deletion:\", modified_tuple)"
      ],
      "metadata": {
        "colab": {
          "base_uri": "https://localhost:8080/"
        },
        "id": "KAMJvB6N6X_7",
        "outputId": "666a0466-821b-42e1-db3a-785ffc78367b"
      },
      "execution_count": null,
      "outputs": [
        {
          "output_type": "stream",
          "name": "stdout",
          "text": [
            "Original tuple: (1, 2, 3, 4, 5)\n",
            "Modified tuple after deletion: (2, 3, 4, 5)\n"
          ]
        }
      ]
    },
    {
      "cell_type": "markdown",
      "source": [
        "Sets in Python :"
      ],
      "metadata": {
        "id": "1kvsslepkc0x"
      }
    },
    {
      "cell_type": "markdown",
      "source": [
        "1) Write a program that converts words present in a list into uppercase and stores them in a set."
      ],
      "metadata": {
        "id": "7L3wOF0tkwr1"
      }
    },
    {
      "cell_type": "code",
      "source": [
        "def words_to_uppercase_set(word_list):\n",
        "\n",
        "  return {word.upper() for word in word_list}\n",
        "\n",
        "words_list = [\"hello\", \"world\", \"python\"]\n",
        "uppercase_set = words_to_uppercase_set(words_list)\n",
        "print(uppercase_set)"
      ],
      "metadata": {
        "colab": {
          "base_uri": "https://localhost:8080/"
        },
        "id": "wEhqKLA-mMRY",
        "outputId": "a4b04229-8c31-4d68-ee4a-2df7d76c30b9"
      },
      "execution_count": null,
      "outputs": [
        {
          "output_type": "stream",
          "name": "stdout",
          "text": [
            "{'PYTHON', 'WORLD', 'HELLO'}\n"
          ]
        }
      ]
    },
    {
      "cell_type": "markdown",
      "source": [
        "2) Write a program to create a set containing 10 random numbers in the range 15 to 45. Count how many of these numbers are less than 30. Delete all numbers that are greater than 35."
      ],
      "metadata": {
        "id": "G8CfKAa6qi74"
      }
    },
    {
      "cell_type": "code",
      "source": [
        "import random\n",
        "\n",
        "random_set = {random.randint(15, 45) for _ in range(10)}\n",
        "less_30 = sum(1 for num in random_set if num < 30)\n",
        "random_set.difference_update({num for num in random_set if num > 35})\n",
        "\n",
        "print(\"Random Set:\", random_set)\n",
        "print(\"Numbers less than 30:\", less_30)"
      ],
      "metadata": {
        "colab": {
          "base_uri": "https://localhost:8080/"
        },
        "id": "w92jC7ghqpKU",
        "outputId": "16e1ff60-74eb-48a8-ff1f-a46a58cfc331"
      },
      "execution_count": null,
      "outputs": [
        {
          "output_type": "stream",
          "name": "stdout",
          "text": [
            "Random Set: {34, 18, 20, 26}\n",
            "Numbers less than 30: 3\n"
          ]
        }
      ]
    },
    {
      "cell_type": "markdown",
      "source": [
        "3) Create an empty set. Write a program that adds five new names to this set, modifies one existing name and deletes two names from it. using python in short"
      ],
      "metadata": {
        "id": "0-aWfJezsU_r"
      }
    },
    {
      "cell_type": "code",
      "source": [
        "my_set = set()\n",
        "\n",
        "my_set.add(\"Prince\")\n",
        "my_set.add(\"Virat\")\n",
        "my_set.add(\"Rohit\")\n",
        "my_set.add(\"David\")\n",
        "my_set.add(\"Smith\")\n",
        "\n",
        "my_set.remove(\"Virat\")\n",
        "my_set.add(\"Dhoni\")\n",
        "\n",
        "my_set.discard(\"Smith\")\n",
        "my_set.discard(\"Prince\")\n",
        "\n",
        "print(my_set)\n",
        "\n",
        "\n",
        "\n",
        "\n"
      ],
      "metadata": {
        "colab": {
          "base_uri": "https://localhost:8080/"
        },
        "id": "-j2KzOwkshr8",
        "outputId": "1578e0ff-df84-4a6c-c44f-263eeb59c02e"
      },
      "execution_count": null,
      "outputs": [
        {
          "output_type": "stream",
          "name": "stdout",
          "text": [
            "{'David', 'Rohit', 'Dhoni'}\n"
          ]
        }
      ]
    },
    {
      "cell_type": "markdown",
      "source": [
        "4) A set contains names which begin either with A or with B. Write a program to separate out the names into two sets, one containing names beginning with A and another with B."
      ],
      "metadata": {
        "id": "wh5mD-uZda_2"
      }
    },
    {
      "cell_type": "code",
      "source": [],
      "metadata": {
        "id": "yFr5XjXXdrTD"
      },
      "execution_count": null,
      "outputs": []
    }
  ]
}