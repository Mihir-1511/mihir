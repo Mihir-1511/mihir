{
  "nbformat": 4,
  "nbformat_minor": 0,
  "metadata": {
    "colab": {
      "provenance": [],
      "authorship_tag": "ABX9TyOyJ07t6Nj0JUgNMeNGOdZF",
      "include_colab_link": true
    },
    "kernelspec": {
      "name": "python3",
      "display_name": "Python 3"
    },
    "language_info": {
      "name": "python"
    }
  },
  "cells": [
    {
      "cell_type": "markdown",
      "metadata": {
        "id": "view-in-github",
        "colab_type": "text"
      },
      "source": [
        "<a href=\"https://colab.research.google.com/github/Mihir-1511/mihir/blob/main/Python_programming.ipynb\" target=\"_parent\"><img src=\"https://colab.research.google.com/assets/colab-badge.svg\" alt=\"Open In Colab\"/></a>"
      ]
    },
    {
      "cell_type": "markdown",
      "source": [
        "1.) Add two numbers."
      ],
      "metadata": {
        "id": "mXXIgosoZSF_"
      }
    },
    {
      "cell_type": "code",
      "source": [
        "a = 10\n",
        "b = 9\n",
        "c = a + b\n",
        "d = b - a\n",
        "e = b/a\n",
        "print(c)\n",
        "print(d)\n",
        "print(e)"
      ],
      "metadata": {
        "colab": {
          "base_uri": "https://localhost:8080/"
        },
        "id": "vXgBPsI4Zd2t",
        "outputId": "c4c6dfba-6f98-4d99-a5c2-1a0875031504"
      },
      "execution_count": null,
      "outputs": [
        {
          "output_type": "stream",
          "name": "stdout",
          "text": [
            "19\n",
            "-1\n",
            "0.9\n"
          ]
        }
      ]
    },
    {
      "cell_type": "markdown",
      "source": [],
      "metadata": {
        "id": "xLwwx6l3Z3-M"
      }
    },
    {
      "cell_type": "markdown",
      "source": [
        "2.)Convert hours into minutes."
      ],
      "metadata": {
        "id": "lI2powroZ6Rb"
      }
    },
    {
      "cell_type": "code",
      "source": [
        "hour = 5\n",
        "minute = 60 * hour\n",
        "print(minute)"
      ],
      "metadata": {
        "colab": {
          "base_uri": "https://localhost:8080/"
        },
        "id": "QZzn8QLiZ_Ty",
        "outputId": "4db9bd4c-2a30-4cd4-b004-b4758ab7a372"
      },
      "execution_count": null,
      "outputs": [
        {
          "output_type": "stream",
          "name": "stdout",
          "text": [
            "300\n"
          ]
        }
      ]
    },
    {
      "cell_type": "markdown",
      "source": [
        "7.)Convert minutes into hours."
      ],
      "metadata": {
        "id": "6mhyvX52aYNR"
      }
    },
    {
      "cell_type": "code",
      "source": [
        "minute = 10\n",
        "hour = minute/60\n",
        "print(hour)"
      ],
      "metadata": {
        "colab": {
          "base_uri": "https://localhost:8080/"
        },
        "id": "VRnjQichacOD",
        "outputId": "d3acbd18-cb1b-4333-9595-e62ce7ef81a5"
      },
      "execution_count": null,
      "outputs": [
        {
          "output_type": "stream",
          "name": "stdout",
          "text": [
            "0.16666666666666666\n"
          ]
        }
      ]
    },
    {
      "cell_type": "markdown",
      "source": [
        "8.)Convert dollars into Rs. Where 1 $ = 48 Rs."
      ],
      "metadata": {
        "id": "Hg8pP7HqakCt"
      }
    },
    {
      "cell_type": "code",
      "source": [
        "rs = 2000\n",
        "doller = rs/82\n",
        "print(doller)"
      ],
      "metadata": {
        "colab": {
          "base_uri": "https://localhost:8080/"
        },
        "id": "zBIXLqMeap3v",
        "outputId": "f2e18920-905a-4fe4-a50b-a9d410bc7d41"
      },
      "execution_count": null,
      "outputs": [
        {
          "output_type": "stream",
          "name": "stdout",
          "text": [
            "24.390243902439025\n"
          ]
        }
      ]
    },
    {
      "cell_type": "markdown",
      "source": [
        "9.)Convert Rs. into dollars where 1 $ = 48 Rs."
      ],
      "metadata": {
        "id": "RlIltUo2axdZ"
      }
    },
    {
      "cell_type": "code",
      "source": [
        "rs = 980\n",
        "doller = rs/82\n",
        "print(doller)"
      ],
      "metadata": {
        "colab": {
          "base_uri": "https://localhost:8080/"
        },
        "id": "lDemQle4bTOp",
        "outputId": "5ea1737c-5b18-4e16-d2be-6daf00bd1250"
      },
      "execution_count": null,
      "outputs": [
        {
          "output_type": "stream",
          "name": "stdout",
          "text": [
            "11.951219512195122\n"
          ]
        }
      ]
    },
    {
      "cell_type": "markdown",
      "source": [
        "10.) Convert dollars into pound where 1 $ = 48 Rs. And 1 pound = 70 Rs.\n",
        "\n",
        "\n"
      ],
      "metadata": {
        "id": "K8FhOAvgbh1-"
      }
    },
    {
      "cell_type": "code",
      "source": [
        "doller = 60\n",
        "rs = doller * 82\n",
        "pound = rs /70\n",
        "print('doller to pound is ',pound)"
      ],
      "metadata": {
        "colab": {
          "base_uri": "https://localhost:8080/"
        },
        "id": "ijWsCVT2brSs",
        "outputId": "bb3a7b43-566f-40ed-eb8a-364765bd6f1c"
      },
      "execution_count": null,
      "outputs": [
        {
          "output_type": "stream",
          "name": "stdout",
          "text": [
            "doller to pound is  70.28571428571429\n"
          ]
        }
      ]
    },
    {
      "cell_type": "markdown",
      "source": [
        "11.) Convert grams into kg.\n",
        "\n",
        "\n"
      ],
      "metadata": {
        "id": "qqW-k_2Dbzmj"
      }
    },
    {
      "cell_type": "code",
      "source": [
        "gram = 1000\n",
        "kg = gram /1000\n",
        "print('gm to kg is ',kg)"
      ],
      "metadata": {
        "colab": {
          "base_uri": "https://localhost:8080/"
        },
        "id": "pP6oAAEIb5-_",
        "outputId": "c2eab79a-06a7-41a6-fc70-d2a82627c233"
      },
      "execution_count": null,
      "outputs": [
        {
          "output_type": "stream",
          "name": "stdout",
          "text": [
            "gm to kg is  1.0\n"
          ]
        }
      ]
    },
    {
      "cell_type": "markdown",
      "source": [
        "12.) Convert kgs into grams."
      ],
      "metadata": {
        "id": "vFIAqGkScD18"
      }
    },
    {
      "cell_type": "code",
      "source": [
        "kg = 5\n",
        "gram = kg * 1000\n",
        "print('kg to gram',gram)"
      ],
      "metadata": {
        "colab": {
          "base_uri": "https://localhost:8080/"
        },
        "id": "R9x_0VXLcMbP",
        "outputId": "bb91ddda-7eee-40df-ca3e-3b2aeb6f554a"
      },
      "execution_count": null,
      "outputs": [
        {
          "output_type": "stream",
          "name": "stdout",
          "text": [
            "kg to gram 5000\n"
          ]
        }
      ]
    },
    {
      "cell_type": "markdown",
      "source": [
        "13.) Convert bytes into KB, MB and GB."
      ],
      "metadata": {
        "id": "zqRlGM7icTPF"
      }
    },
    {
      "cell_type": "code",
      "source": [
        "byte = 5000\n",
        "kb = byte / 1024\n",
        "mb = kb /1042\n",
        "gb = mb / 1024\n",
        "print('byte to kb is',kb,'byte to mb is ',mb,'byte to gb is ',gb)"
      ],
      "metadata": {
        "colab": {
          "base_uri": "https://localhost:8080/"
        },
        "id": "syeOhSwvcYQ5",
        "outputId": "5eb2ba32-fafb-4f10-caed-a0702bfd4ecf"
      },
      "execution_count": null,
      "outputs": [
        {
          "output_type": "stream",
          "name": "stdout",
          "text": [
            "byte to kb is 4.8828125 byte to mb is  0.004686000479846449 byte to gb is  4.576172343600048e-06\n"
          ]
        }
      ]
    },
    {
      "cell_type": "markdown",
      "source": [
        "14.) Convert celcius into Fahrenheit. F = (9/5 * C) + 32"
      ],
      "metadata": {
        "id": "G_UDL4Qlci7o"
      }
    },
    {
      "cell_type": "code",
      "source": [
        "celcius = 37\n",
        "fehrenheit = (9/5*celcius)+32\n",
        "print(fehrenheit)"
      ],
      "metadata": {
        "colab": {
          "base_uri": "https://localhost:8080/"
        },
        "id": "ZW-KCNJicoCM",
        "outputId": "533fffc0-befb-46bb-f7ed-a273ebd22a6d"
      },
      "execution_count": null,
      "outputs": [
        {
          "output_type": "stream",
          "name": "stdout",
          "text": [
            "98.60000000000001\n"
          ]
        }
      ]
    },
    {
      "cell_type": "markdown",
      "source": [
        "15.) Convert Fahrenheit into celcius. C = 5/9 * (F – 32)"
      ],
      "metadata": {
        "id": "sPCfaNaWczWB"
      }
    },
    {
      "cell_type": "code",
      "source": [
        "fehrenheit = 98.6\n",
        "celcius = (5/9)*(fehrenheit-32)\n",
        "print(celcius)"
      ],
      "metadata": {
        "colab": {
          "base_uri": "https://localhost:8080/"
        },
        "id": "Vb455nBmc6Qy",
        "outputId": "8af8d2d1-5591-4a96-c3a5-ee7588f8aead"
      },
      "execution_count": null,
      "outputs": [
        {
          "output_type": "stream",
          "name": "stdout",
          "text": [
            "37.0\n"
          ]
        }
      ]
    },
    {
      "cell_type": "markdown",
      "source": [
        "16.) Calculate interest where I = PRN/100."
      ],
      "metadata": {
        "id": "3qOfB_YOdDWz"
      }
    },
    {
      "cell_type": "code",
      "source": [
        "p = 1000\n",
        "t = 10\n",
        "r = 7\n",
        "intrest = (p*t*r)/100\n",
        "print(intrest)"
      ],
      "metadata": {
        "colab": {
          "base_uri": "https://localhost:8080/"
        },
        "id": "xbN0SsNydIQx",
        "outputId": "d1cb72fc-c25a-4991-c44f-71591da93b0f"
      },
      "execution_count": null,
      "outputs": [
        {
          "output_type": "stream",
          "name": "stdout",
          "text": [
            "700.0\n"
          ]
        }
      ]
    },
    {
      "cell_type": "markdown",
      "source": [
        "17.) Calculate area & perimeter of a square. A = L^2, P = 4L"
      ],
      "metadata": {
        "id": "Ld2p9fVPdaA5"
      }
    },
    {
      "cell_type": "code",
      "source": [
        "length = 50\n",
        "area = length ** 2\n",
        "perimeter = 4 * length\n",
        "print(area)\n",
        "print(perimeter)"
      ],
      "metadata": {
        "colab": {
          "base_uri": "https://localhost:8080/"
        },
        "id": "FBhklWRfdbHT",
        "outputId": "f0ad476e-dd39-4a81-af9e-21778f1ba57d"
      },
      "execution_count": null,
      "outputs": [
        {
          "output_type": "stream",
          "name": "stdout",
          "text": [
            "2500\n",
            "200\n"
          ]
        }
      ]
    },
    {
      "cell_type": "markdown",
      "source": [
        "18.) Calculate area & perimeter of a rectangle. A = L*B, P = 2 (L+B)\n",
        "\n",
        "\n"
      ],
      "metadata": {
        "id": "MR0jxISgdj7B"
      }
    },
    {
      "cell_type": "code",
      "source": [
        "length = 50\n",
        "width = 7\n",
        "area = length * width\n",
        "perimeter = 2*(length + width)\n",
        "print(area)\n",
        "print(perimeter)"
      ],
      "metadata": {
        "colab": {
          "base_uri": "https://localhost:8080/"
        },
        "id": "TWURDu6zdsk-",
        "outputId": "02cd96d2-dad5-46fa-83bf-62d89f1a7087"
      },
      "execution_count": null,
      "outputs": [
        {
          "output_type": "stream",
          "name": "stdout",
          "text": [
            "350\n",
            "114\n"
          ]
        }
      ]
    },
    {
      "cell_type": "markdown",
      "source": [
        "19.) Calculate area of a circle. A = 22/7 * R * R\n",
        "\n",
        "\n"
      ],
      "metadata": {
        "id": "sT9BPmCpeb9I"
      }
    },
    {
      "cell_type": "code",
      "source": [
        "radius = 35\n",
        "area = (22/7)*radius*radius\n",
        "print(area)"
      ],
      "metadata": {
        "colab": {
          "base_uri": "https://localhost:8080/"
        },
        "id": "28QNCIpXehWU",
        "outputId": "044e4865-a38a-4a24-efc5-eda95b6bf9c6"
      },
      "execution_count": null,
      "outputs": [
        {
          "output_type": "stream",
          "name": "stdout",
          "text": [
            "3850.0\n"
          ]
        }
      ]
    },
    {
      "cell_type": "markdown",
      "source": [
        "20.) Calculate area of a triangle. A = H*L/2"
      ],
      "metadata": {
        "id": "r41iH1FOe_WO"
      }
    },
    {
      "cell_type": "code",
      "source": [
        "h = 10\n",
        "l = 5\n",
        "a = (h*l)/2\n",
        "print(a)"
      ],
      "metadata": {
        "colab": {
          "base_uri": "https://localhost:8080/"
        },
        "id": "7axQSWxmfA7B",
        "outputId": "ce01cd75-9f0d-426c-ceec-fbecf25ce596"
      },
      "execution_count": null,
      "outputs": [
        {
          "output_type": "stream",
          "name": "stdout",
          "text": [
            "25.0\n"
          ]
        }
      ]
    },
    {
      "cell_type": "markdown",
      "source": [
        "23.) Calculate average of three subjects along with their total."
      ],
      "metadata": {
        "id": "yeynnUI5fH4K"
      }
    },
    {
      "cell_type": "code",
      "source": [
        "math = 100\n",
        "phy = 68\n",
        "chem = 75\n",
        "total = math + phy + chem\n",
        "avg = total / 3\n",
        "print(total)\n",
        "print(avg)"
      ],
      "metadata": {
        "colab": {
          "base_uri": "https://localhost:8080/"
        },
        "id": "NZnO4o4jfNhc",
        "outputId": "09dd3a10-eaa3-4afb-b494-b651f2d4d646"
      },
      "execution_count": null,
      "outputs": [
        {
          "output_type": "stream",
          "name": "stdout",
          "text": [
            "243\n",
            "81.0\n"
          ]
        }
      ]
    },
    {
      "cell_type": "markdown",
      "source": [
        "24.) Swap two values."
      ],
      "metadata": {
        "id": "d1rniGr_fToU"
      }
    },
    {
      "cell_type": "code",
      "source": [
        "a = 25\n",
        "b = 14\n",
        "a = a + b\n",
        "b = a - b\n",
        "a = a - b\n",
        "print(a,b)"
      ],
      "metadata": {
        "colab": {
          "base_uri": "https://localhost:8080/"
        },
        "id": "RBNWbrdlfa0Z",
        "outputId": "4bae1c16-e823-4066-be08-b9521f65e9ea"
      },
      "execution_count": null,
      "outputs": [
        {
          "output_type": "stream",
          "name": "stdout",
          "text": [
            "14 25\n"
          ]
        }
      ]
    },
    {
      "cell_type": "markdown",
      "source": [
        "22.) Calculate net sales where net sales = gross sales – 10% discount of gross sales."
      ],
      "metadata": {
        "id": "epd9oRqnfmSI"
      }
    },
    {
      "cell_type": "code",
      "source": [
        "grosalary = 100000\n",
        "netsalery = grosalary - (grosalary*10)/100\n",
        "print(netsalery)\n"
      ],
      "metadata": {
        "colab": {
          "base_uri": "https://localhost:8080/"
        },
        "id": "a-Bipu5Hfn38",
        "outputId": "e32537a7-e655-47e9-f3f0-1e5c797b7381"
      },
      "execution_count": null,
      "outputs": [
        {
          "output_type": "stream",
          "name": "stdout",
          "text": [
            "90000.0\n"
          ]
        }
      ]
    },
    {
      "cell_type": "markdown",
      "source": [
        "21.) Calculate net salary where net salary = gross salary + allowance – deduction. Allowances are 10% while deductions are 3% of gross salary.\n",
        "\n",
        "\n"
      ],
      "metadata": {
        "id": "JUU-hCjTf-w0"
      }
    },
    {
      "cell_type": "code",
      "source": [
        "grossalary = 100000\n",
        "allow = (grossalary*10)/100\n",
        "deduc = (grossalary*3)/100\n",
        "netsalary = grossalary + allow -deduc\n",
        "print(netsalary)"
      ],
      "metadata": {
        "colab": {
          "base_uri": "https://localhost:8080/"
        },
        "id": "iiMa_YMdgD0V",
        "outputId": "318e16ab-88e4-4ba2-b46c-286d97f129f3"
      },
      "execution_count": null,
      "outputs": [
        {
          "output_type": "stream",
          "name": "stdout",
          "text": [
            "107000.0\n"
          ]
        }
      ]
    },
    {
      "cell_type": "markdown",
      "source": [
        "If-else conditionals :"
      ],
      "metadata": {
        "id": "YzgIcoB6gPDs"
      }
    },
    {
      "cell_type": "markdown",
      "source": [
        "1)Print largest and smallest values out of two."
      ],
      "metadata": {
        "id": "wqOSi9RlgWGZ"
      }
    },
    {
      "cell_type": "code",
      "source": [
        "num1= 25\n",
        "num2 = 69\n",
        "if (num1>num2):\n",
        "  print(\"Num1 is largest values\")\n",
        "else:\n",
        "  print(\"num1 is smallest\")\n",
        "\n",
        "if(num2>num1):\n",
        "  print(\"num2 is largest values\")\n",
        "else:\n",
        "  print(\"num2 is smallest\")\n"
      ],
      "metadata": {
        "colab": {
          "base_uri": "https://localhost:8080/"
        },
        "id": "08TmzG9qgdiz",
        "outputId": "598c2fc9-c69d-4af0-8afd-7dc405673765"
      },
      "execution_count": null,
      "outputs": [
        {
          "output_type": "stream",
          "name": "stdout",
          "text": [
            "num1 is smallest\n",
            "num2 is largest values\n"
          ]
        }
      ]
    },
    {
      "cell_type": "markdown",
      "source": [
        "2.) Print largest and smallest values out of three.\n",
        "\n"
      ],
      "metadata": {
        "id": "vuy-ECeygn_7"
      }
    },
    {
      "cell_type": "code",
      "source": [
        "num1 = 45\n",
        "num2 = 56\n",
        "num3 = 19\n",
        "if(num1>num2 and num1 >num3):\n",
        "  print(\"num1 is largest values\")\n",
        "else:\n",
        "  print(\"num1 is smallest\")\n",
        "if(num2>num3 and num2>num1):\n",
        "    print(\"num2 is largest values\")\n",
        "else:\n",
        "  print(\"num2 is smallest\")\n",
        "if(num3>num1 and num3>num2):\n",
        "  print(\"num3 is largest\")\n",
        "else:\n",
        "  print(\"num3 is smallest\")"
      ],
      "metadata": {
        "colab": {
          "base_uri": "https://localhost:8080/"
        },
        "id": "XZ6vnRe9gtl8",
        "outputId": "09c5b8be-0f38-4211-e0d5-86e191f96347"
      },
      "execution_count": null,
      "outputs": [
        {
          "output_type": "stream",
          "name": "stdout",
          "text": [
            "num1 is smallest\n",
            "num2 is largest values\n",
            "num3 is smallest\n"
          ]
        }
      ]
    },
    {
      "cell_type": "markdown",
      "source": [
        "3) Check whether a given number is odd or even\n",
        "\n",
        "\n"
      ],
      "metadata": {
        "id": "3Ujf94pag3fp"
      }
    },
    {
      "cell_type": "code",
      "source": [
        "num = 7\n",
        "if(num%2==0):\n",
        "  print(\"Even\")\n",
        "else:\n",
        "  print(\"odd\")"
      ],
      "metadata": {
        "colab": {
          "base_uri": "https://localhost:8080/"
        },
        "id": "4mFNj7Nkg90u",
        "outputId": "35e493cb-ceea-4d1a-db66-c39a2b896415"
      },
      "execution_count": null,
      "outputs": [
        {
          "output_type": "stream",
          "name": "stdout",
          "text": [
            "odd\n"
          ]
        }
      ]
    },
    {
      "cell_type": "markdown",
      "source": [
        "4) Check whether a given number is divisible by 10 or not."
      ],
      "metadata": {
        "id": "gHLRcn-ghFbI"
      }
    },
    {
      "cell_type": "code",
      "source": [
        "num = 600\n",
        "if(num%10==0):\n",
        "  print(\"it is divisiable by 10\")\n",
        "\n",
        "else:\n",
        "  print(\" it is not divisiable by 10\")"
      ],
      "metadata": {
        "colab": {
          "base_uri": "https://localhost:8080/"
        },
        "id": "6M2CPAlKhMnP",
        "outputId": "b27be7f9-d077-4549-b514-66b84f5f7964"
      },
      "execution_count": null,
      "outputs": [
        {
          "output_type": "stream",
          "name": "stdout",
          "text": [
            "it is divisiable by 10\n"
          ]
        }
      ]
    },
    {
      "cell_type": "markdown",
      "source": [
        "5) Accept age of a person. If age is less than 18, print minor otherwise Major.\n",
        "\n"
      ],
      "metadata": {
        "id": "2n_aft0ihewU"
      }
    },
    {
      "cell_type": "code",
      "source": [
        "age = int(input(\"Enter the age of person:\"))\n",
        "if(age<18):\n",
        "  print(\"minor\")\n",
        "\n",
        "else:\n",
        "  print(\"major\")"
      ],
      "metadata": {
        "colab": {
          "base_uri": "https://localhost:8080/"
        },
        "id": "s59L5pithjN0",
        "outputId": "b7234f80-f84d-4eb1-8f1b-ed9f490610a9"
      },
      "execution_count": null,
      "outputs": [
        {
          "output_type": "stream",
          "name": "stdout",
          "text": [
            "Enter the age of person:23\n",
            "major\n"
          ]
        }
      ]
    },
    {
      "cell_type": "markdown",
      "source": [
        "6) Accept a number from the user. And print number of digits in it.\n",
        "\n"
      ],
      "metadata": {
        "id": "hjMKQKFdhzHA"
      }
    },
    {
      "cell_type": "code",
      "source": [
        "num = input(\"Enter the numbers:\")\n",
        "print(len(num))"
      ],
      "metadata": {
        "colab": {
          "base_uri": "https://localhost:8080/"
        },
        "id": "kBI-ekVxh1yM",
        "outputId": "9d2010b1-8156-493f-869b-d8d9fc61ad4e"
      },
      "execution_count": null,
      "outputs": [
        {
          "output_type": "stream",
          "name": "stdout",
          "text": [
            "Enter the numbers:123456789014\n",
            "12\n"
          ]
        }
      ]
    },
    {
      "cell_type": "markdown",
      "source": [
        "7) Accept a year value from the user. Check whether it is a leap year or not.\n",
        "\n"
      ],
      "metadata": {
        "id": "ffQWvRqCiCzW"
      }
    },
    {
      "cell_type": "code",
      "source": [
        "year = int(input(\"Enter the year:\"))\n",
        "if( year % 4 == 0 and ( year % 400 == 0 or year % 100 != 0 )):\n",
        "  print(\"it is a leap year\")\n",
        "else:\n",
        "  print(\"it is not leap year\")"
      ],
      "metadata": {
        "colab": {
          "base_uri": "https://localhost:8080/"
        },
        "id": "LO0bGzsqiL6R",
        "outputId": "b7da795a-00bc-4c1e-ea47-fcd9345a8f73"
      },
      "execution_count": null,
      "outputs": [
        {
          "output_type": "stream",
          "name": "stdout",
          "text": [
            "Enter the year:2025\n",
            "it is not leap year\n"
          ]
        }
      ]
    },
    {
      "cell_type": "markdown",
      "source": [
        "8) Check whether a triangle is valid or not, when the three angles of the triangle are entered through the keyboard. A triangle is valid if te sum of all the three angles is equal to 180 degrees."
      ],
      "metadata": {
        "id": "t3ltWdp2iln5"
      }
    },
    {
      "cell_type": "code",
      "source": [
        "side1 = int(input(\"Enter the 1st side:\"))\n",
        "side2 = int(input(\"Enter the 2nd side:\"))\n",
        "side3  = int(input(\"Enter the 3rd side:\"))\n",
        "if(side1 + side2 +side3 == 180):\n",
        "  print(\"triange is valid\")\n",
        "else:\n",
        "  print(\"triange is invalid\")\n",
        "\n",
        "\n",
        "\n"
      ],
      "metadata": {
        "colab": {
          "base_uri": "https://localhost:8080/"
        },
        "id": "ojhJBDffipX8",
        "outputId": "7d56c8b8-3af3-4cb2-8f9b-a8da507020b7"
      },
      "execution_count": null,
      "outputs": [
        {
          "output_type": "stream",
          "name": "stdout",
          "text": [
            "Enter the 1st side:45\n",
            "Enter the 2nd side:45\n",
            "Enter the 3rd side:90\n",
            "triange is valid\n"
          ]
        }
      ]
    },
    {
      "cell_type": "markdown",
      "source": [
        "9) Print absolute value of a given number."
      ],
      "metadata": {
        "id": "HMIt4njfjZD_"
      }
    },
    {
      "cell_type": "code",
      "source": [
        "num  = -7\n",
        "print(abs(num))"
      ],
      "metadata": {
        "colab": {
          "base_uri": "https://localhost:8080/"
        },
        "id": "dm2jvUT3jgfZ",
        "outputId": "b3764bb1-db8c-40d4-8365-f9da85fdf6ed"
      },
      "execution_count": null,
      "outputs": [
        {
          "output_type": "stream",
          "name": "stdout",
          "text": [
            "7\n"
          ]
        }
      ]
    },
    {
      "cell_type": "markdown",
      "source": [
        "10) Given the length and breadth of a rectangle, write a program to find whether theare of the rectangle is greater than its perimeter.\n",
        "\n",
        "\n"
      ],
      "metadata": {
        "id": "cVwQ9KL8jsUG"
      }
    },
    {
      "cell_type": "code",
      "source": [
        "len = 87\n",
        "breath = 41\n",
        "area = len * breath\n",
        "perimeter = 2*(len + breath)\n",
        "if(area > perimeter):\n",
        "  print('area is greater than perimeter')\n",
        "else:\n",
        "  print('area is smaller than perimeter')"
      ],
      "metadata": {
        "colab": {
          "base_uri": "https://localhost:8080/"
        },
        "id": "V2IVKIiOj3Fv",
        "outputId": "dc9ff648-80bd-410b-8474-343fa6b859f0"
      },
      "execution_count": null,
      "outputs": [
        {
          "output_type": "stream",
          "name": "stdout",
          "text": [
            "area is greater than perimeter\n"
          ]
        }
      ]
    },
    {
      "cell_type": "markdown",
      "source": [
        "11) Given three points (x1,y1), (x2,y2) and (x3,y3), check if all the three points fall on one straight line\n",
        "\n",
        "\n"
      ],
      "metadata": {
        "id": "ESXK3QW0kEg7"
      }
    },
    {
      "cell_type": "code",
      "source": [
        "x1 = 2\n",
        "x2 = 1\n",
        "x3 =6\n",
        "y1 =9\n",
        "y2 = 7\n",
        "y3 =4\n",
        "a = (x1*(y2-y3))+(x2*(y3-y1))+(x3*(y1-y2))\n",
        "if (a == 0):\n",
        "  print('all the points fall on one stright line')\n",
        "else:\n",
        "  print(\"all the points dont fall on one stright line\")"
      ],
      "metadata": {
        "colab": {
          "base_uri": "https://localhost:8080/"
        },
        "id": "g1TY4D7akHXU",
        "outputId": "4f2a2275-b8ca-41ca-d5f9-486804e4fed4"
      },
      "execution_count": null,
      "outputs": [
        {
          "output_type": "stream",
          "name": "stdout",
          "text": [
            "all the points dont fall on one stright line\n"
          ]
        }
      ]
    },
    {
      "cell_type": "markdown",
      "source": [
        "12) Given the coordinates (x,y) of center of a circle and its radius, determine whether a point lies inside the circle, on the circle or outside the circle. (Hint: Use sqrt( ), pow( ) )"
      ],
      "metadata": {
        "id": "_0B0UBBUkT-W"
      }
    },
    {
      "cell_type": "code",
      "source": [
        "import math\n",
        "\n",
        "\n",
        "circle_x = 5\n",
        "circle_y = 1\n",
        "radius = 8\n",
        "point_x = 3\n",
        "point_y = 7\n",
        "\n",
        "\n",
        "distance = math.sqrt(math.pow(point_x - circle_x, 2) + math.pow(point_y - circle_y, 2))\n",
        "\n",
        "\n",
        "if distance < radius:\n",
        "    print(f\"The point ({point_x}, {point_y}) is inside the circle.\")\n",
        "elif distance == radius:\n",
        "    print(f\"The point ({point_x}, {point_y}) is on the circle.\")\n",
        "else:\n",
        "    print(f\"The point ({point_x}, {point_y}) is outside the circle.\")\n"
      ],
      "metadata": {
        "colab": {
          "base_uri": "https://localhost:8080/"
        },
        "id": "ep2t9HDmkWpg",
        "outputId": "a4ae6005-420d-40a4-cce4-e36955a02850"
      },
      "execution_count": null,
      "outputs": [
        {
          "output_type": "stream",
          "name": "stdout",
          "text": [
            "The point (3, 7) is inside the circle.\n"
          ]
        }
      ]
    },
    {
      "cell_type": "markdown",
      "source": [
        "13) Convert number 0 to 19 to its equivalent words. E.g. 0  zero, 19nineteen."
      ],
      "metadata": {
        "id": "AjDO5y2Tko2y"
      }
    },
    {
      "cell_type": "code",
      "source": [
        "number = 7\n",
        "\n",
        "number_words = [\n",
        "    \"zero\", \"one\", \"two\", \"three\", \"four\", \"five\", \"six\", \"seven\", \"eight\", \"nine\",\n",
        "    \"ten\", \"eleven\", \"twelve\", \"thirteen\", \"fourteen\", \"fifteen\", \"sixteen\",\n",
        "    \"seventeen\", \"eighteen\", \"nineteen\"\n",
        "]\n",
        "\n",
        "\n",
        "if 0 <= number <= 19:\n",
        "    print(f\"The number {number} is written as '{number_words[number]}'.\")\n",
        "else:\n",
        "    print(\"Number is out of range (0-19).\")"
      ],
      "metadata": {
        "colab": {
          "base_uri": "https://localhost:8080/"
        },
        "id": "GPvvFtPIk1FE",
        "outputId": "19bc0d57-3816-41a5-8a6b-cb0c0cc489e3"
      },
      "execution_count": null,
      "outputs": [
        {
          "output_type": "stream",
          "name": "stdout",
          "text": [
            "The number 7 is written as 'seven'.\n"
          ]
        }
      ]
    },
    {
      "cell_type": "markdown",
      "source": [
        "14) Accept marks of three subjects. Print total and average along with whether a candidate has passed or fail. If student secures <= 39 marks in any subject, consider him as fail. Also assigned a subject wise grade based on the following table: bold text\n",
        "\n"
      ],
      "metadata": {
        "id": "lBkbOOaelA7_"
      }
    },
    {
      "cell_type": "code",
      "source": [
        "sub1 = int(input(\"Enter the maths mark:\"))\n",
        "sub2 = int(input(\"Enter the chemistry mark:\"))\n",
        "sub3 = int(input(\"Enter the physics mark:\"))\n",
        "sum = sub1+sub2+sub3 /3\n",
        "if(sub1 <= 39 or sub2 <=39 or sub3<=39):\n",
        "  print(\"Fail\")\n",
        "\n",
        "elif(sum>= 40 and sum <=44 ):\n",
        "  print(\"P\")\n",
        "\n",
        "elif(sum>= 45 and sum <=49 ):\n",
        "  print(\"C\")\n",
        "\n",
        "elif(sum>= 50 and sum <=54 ):\n",
        "  print(\"B\")\n",
        "\n",
        "elif(sum>= 55 and sum <=59 ):\n",
        "  print(\"B+\")\n",
        "\n",
        "elif(sum>= 60 and sum <= 69 ):\n",
        "  print(\"A\")\n",
        "\n",
        "elif(sum>= 70 and sum <= 79):\n",
        "  print(\"A+\")\n",
        "\n",
        "elif(sum>= 80 and sum <=100 ):\n",
        "  print(\"O\")\n",
        "\n",
        "else:\n",
        "  print(\"good\")\n"
      ],
      "metadata": {
        "colab": {
          "base_uri": "https://localhost:8080/"
        },
        "id": "whv4CTIMlMBn",
        "outputId": "0621835e-2f07-4cd5-fbc6-5df5735badc9"
      },
      "execution_count": null,
      "outputs": [
        {
          "output_type": "stream",
          "name": "stdout",
          "text": [
            "Enter the maths mark:99\n",
            "Enter the chemistry mark:80\n",
            "Enter the physics mark:50\n",
            "good\n"
          ]
        }
      ]
    }
  ]
}